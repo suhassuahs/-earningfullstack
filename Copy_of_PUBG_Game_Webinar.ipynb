{
  "nbformat": 4,
  "nbformat_minor": 0,
  "metadata": {
    "colab": {
      "name": "Copy of PUBG Game Webinar.ipynb",
      "provenance": [],
      "collapsed_sections": [],
      "machine_shape": "hm",
      "include_colab_link": true
    },
    "kernelspec": {
      "name": "python3",
      "display_name": "Python 3"
    },
    "accelerator": "TPU"
  },
  "cells": [
    {
      "cell_type": "markdown",
      "metadata": {
        "id": "view-in-github",
        "colab_type": "text"
      },
      "source": [
        "<a href=\"https://colab.research.google.com/github/suhassuahs/-earningfullstack/blob/main/Copy_of_PUBG_Game_Webinar.ipynb\" target=\"_parent\"><img src=\"https://colab.research.google.com/assets/colab-badge.svg\" alt=\"Open In Colab\"/></a>"
      ]
    },
    {
      "cell_type": "markdown",
      "metadata": {
        "id": "rxwwALHHfhfF"
      },
      "source": [
        "![alt text](https://i.imgur.com/aZbfX73.png)\n"
      ]
    },
    {
      "cell_type": "code",
      "metadata": {
        "colab": {
          "base_uri": "https://localhost:8080/"
        },
        "id": "heH1aW5iyKVR",
        "outputId": "e9b09501-2ce5-475b-a3e5-0838c3c8021c"
      },
      "source": [
        "!wget \"https://www.dropbox.com/s/zobiwi4otsz5768/test_V2.csv.zip\"\n",
        "!wget \"https://www.dropbox.com/s/25fcgnykp70yvl6/train_V2.csv.zip\""
      ],
      "execution_count": null,
      "outputs": [
        {
          "output_type": "stream",
          "name": "stdout",
          "text": [
            "--2021-10-24 13:52:00--  https://www.dropbox.com/s/zobiwi4otsz5768/test_V2.csv.zip\n",
            "Resolving www.dropbox.com (www.dropbox.com)... 162.125.3.18, 2620:100:601b:18::a27d:812\n",
            "Connecting to www.dropbox.com (www.dropbox.com)|162.125.3.18|:443... connected.\n",
            "HTTP request sent, awaiting response... 301 Moved Permanently\n",
            "Location: /s/raw/zobiwi4otsz5768/test_V2.csv.zip [following]\n",
            "--2021-10-24 13:52:01--  https://www.dropbox.com/s/raw/zobiwi4otsz5768/test_V2.csv.zip\n",
            "Reusing existing connection to www.dropbox.com:443.\n",
            "HTTP request sent, awaiting response... 302 Found\n",
            "Location: https://uc5a221f61eac22ceffa3e8fe06c.dl.dropboxusercontent.com/cd/0/inline/BYrC34kDPRRswgPKwrUZSmlpNmXEZpCFTCdk6T_Izg1j3A-fQSOdu2O6kBWTK3TXqTj1qOa9x6bql2KIEWK8BmDOOICHR1vmOK2gyKT6QYR8A98gS2IXQUPG9dDG80PZhODovY2vIcl_zWiG0OfCHh70/file# [following]\n",
            "--2021-10-24 13:52:01--  https://uc5a221f61eac22ceffa3e8fe06c.dl.dropboxusercontent.com/cd/0/inline/BYrC34kDPRRswgPKwrUZSmlpNmXEZpCFTCdk6T_Izg1j3A-fQSOdu2O6kBWTK3TXqTj1qOa9x6bql2KIEWK8BmDOOICHR1vmOK2gyKT6QYR8A98gS2IXQUPG9dDG80PZhODovY2vIcl_zWiG0OfCHh70/file\n",
            "Resolving uc5a221f61eac22ceffa3e8fe06c.dl.dropboxusercontent.com (uc5a221f61eac22ceffa3e8fe06c.dl.dropboxusercontent.com)... 162.125.3.15, 2620:100:601b:15::a27d:80f\n",
            "Connecting to uc5a221f61eac22ceffa3e8fe06c.dl.dropboxusercontent.com (uc5a221f61eac22ceffa3e8fe06c.dl.dropboxusercontent.com)|162.125.3.15|:443... connected.\n",
            "HTTP request sent, awaiting response... 302 Found\n",
            "Location: /cd/0/inline2/BYr2DQkRHHwbQddlE-JoGJWcsyCaVTRhS-HZOBjqgwMfii_AXtkY6RCNG3bBKKQlRnPgD7vlL1nVRBvmkk5rJnxtijaeLeHV_dJd4yOWcC7ceoApYVPGIV-w2OWDG2UvsKg7k9nLEx6628ECgegpuUeSdZEx2UHK2eBMD-Ke5Ge5UX8vxGub4Gr3nmSKm3mKVk1RunWiLnABW4b9aZdF21q_KU2d-LmY7lOuXoNGfkD05egditSLc1GXT4TwjQAqoP7dAV7CrF7xEwhhGePJwMarav62j5bdEJuTiL9Z4QmAYsHCFsyhkXwoH2u926364RyNzyUfq4-Gb4QnQ524fNJGwgwLUO9OtzLEoS-2yTUnCBRPsoVvpUopD2Uq9PHEPO0/file [following]\n",
            "--2021-10-24 13:52:01--  https://uc5a221f61eac22ceffa3e8fe06c.dl.dropboxusercontent.com/cd/0/inline2/BYr2DQkRHHwbQddlE-JoGJWcsyCaVTRhS-HZOBjqgwMfii_AXtkY6RCNG3bBKKQlRnPgD7vlL1nVRBvmkk5rJnxtijaeLeHV_dJd4yOWcC7ceoApYVPGIV-w2OWDG2UvsKg7k9nLEx6628ECgegpuUeSdZEx2UHK2eBMD-Ke5Ge5UX8vxGub4Gr3nmSKm3mKVk1RunWiLnABW4b9aZdF21q_KU2d-LmY7lOuXoNGfkD05egditSLc1GXT4TwjQAqoP7dAV7CrF7xEwhhGePJwMarav62j5bdEJuTiL9Z4QmAYsHCFsyhkXwoH2u926364RyNzyUfq4-Gb4QnQ524fNJGwgwLUO9OtzLEoS-2yTUnCBRPsoVvpUopD2Uq9PHEPO0/file\n",
            "Reusing existing connection to uc5a221f61eac22ceffa3e8fe06c.dl.dropboxusercontent.com:443.\n",
            "HTTP request sent, awaiting response... 200 OK\n",
            "Length: 105060022 (100M) [application/zip]\n",
            "Saving to: ‘test_V2.csv.zip’\n",
            "\n",
            "test_V2.csv.zip     100%[===================>] 100.19M  71.2MB/s    in 1.4s    \n",
            "\n",
            "2021-10-24 13:52:03 (71.2 MB/s) - ‘test_V2.csv.zip’ saved [105060022/105060022]\n",
            "\n",
            "--2021-10-24 13:52:03--  https://www.dropbox.com/s/25fcgnykp70yvl6/train_V2.csv.zip\n",
            "Resolving www.dropbox.com (www.dropbox.com)... 162.125.3.18, 2620:100:601b:18::a27d:812\n",
            "Connecting to www.dropbox.com (www.dropbox.com)|162.125.3.18|:443... connected.\n",
            "HTTP request sent, awaiting response... 301 Moved Permanently\n",
            "Location: /s/raw/25fcgnykp70yvl6/train_V2.csv.zip [following]\n",
            "--2021-10-24 13:52:03--  https://www.dropbox.com/s/raw/25fcgnykp70yvl6/train_V2.csv.zip\n",
            "Reusing existing connection to www.dropbox.com:443.\n",
            "HTTP request sent, awaiting response... 302 Found\n",
            "Location: https://uc73bffe83aa91ef6af42bde5410.dl.dropboxusercontent.com/cd/0/inline/BYqY_KyVc_yGkpu4e3tDRgajnbJI-uhtQVJL5t_CO-_KAe9P1MEYl77SPe4CLQEOslyUE-3g7zLIuHiu8Lav3rlHXtpRPckZI2iadZG3YIcQTVbFNn9y2cNqtyBPGxOhrZ6YmMAW9anRUjf29wYG0yLY/file# [following]\n",
            "--2021-10-24 13:52:03--  https://uc73bffe83aa91ef6af42bde5410.dl.dropboxusercontent.com/cd/0/inline/BYqY_KyVc_yGkpu4e3tDRgajnbJI-uhtQVJL5t_CO-_KAe9P1MEYl77SPe4CLQEOslyUE-3g7zLIuHiu8Lav3rlHXtpRPckZI2iadZG3YIcQTVbFNn9y2cNqtyBPGxOhrZ6YmMAW9anRUjf29wYG0yLY/file\n",
            "Resolving uc73bffe83aa91ef6af42bde5410.dl.dropboxusercontent.com (uc73bffe83aa91ef6af42bde5410.dl.dropboxusercontent.com)... 162.125.80.15, 2620:100:6018:15::a27d:30f\n",
            "Connecting to uc73bffe83aa91ef6af42bde5410.dl.dropboxusercontent.com (uc73bffe83aa91ef6af42bde5410.dl.dropboxusercontent.com)|162.125.80.15|:443... connected.\n",
            "HTTP request sent, awaiting response... 302 Found\n",
            "Location: /cd/0/inline2/BYrLWRQNQOU4Nx7VQ1V-FFUB-xKhOJHIC1Nacai6kw67EwBeQLgSsO6Xbr4bdNWks4OG0pIAOWqJUYFRJvNZHmbpn-W55g2iKE6vSP4OS3Z7jO1O07oyCA4ZYxkZGI70vmh8mlNtOEnC-SsRHi0lsM-VWSF7L2ZguAEaxDnyTeHI4ZNKZQpWp_oFFXmBzYRyW7Tt41aETxAkDmMQoCWlK9Ph5044gg3aDW26qZxjIZoX574RC6ANt59l-1dYg6KMEzo9MQhNJDcfuf3GLwcKpL1WrENXTnYJaml4G1g1auAujVktthwYeqX4ZAHKNI4V7nwrhtV0LU1HjURLqsNscie7d3fflh6Pu7Tnw7LCUcnciQ8ar2fKMjcDMpi534gRc9Q/file [following]\n",
            "--2021-10-24 13:52:04--  https://uc73bffe83aa91ef6af42bde5410.dl.dropboxusercontent.com/cd/0/inline2/BYrLWRQNQOU4Nx7VQ1V-FFUB-xKhOJHIC1Nacai6kw67EwBeQLgSsO6Xbr4bdNWks4OG0pIAOWqJUYFRJvNZHmbpn-W55g2iKE6vSP4OS3Z7jO1O07oyCA4ZYxkZGI70vmh8mlNtOEnC-SsRHi0lsM-VWSF7L2ZguAEaxDnyTeHI4ZNKZQpWp_oFFXmBzYRyW7Tt41aETxAkDmMQoCWlK9Ph5044gg3aDW26qZxjIZoX574RC6ANt59l-1dYg6KMEzo9MQhNJDcfuf3GLwcKpL1WrENXTnYJaml4G1g1auAujVktthwYeqX4ZAHKNI4V7nwrhtV0LU1HjURLqsNscie7d3fflh6Pu7Tnw7LCUcnciQ8ar2fKMjcDMpi534gRc9Q/file\n",
            "Reusing existing connection to uc73bffe83aa91ef6af42bde5410.dl.dropboxusercontent.com:443.\n",
            "HTTP request sent, awaiting response... 200 OK\n",
            "Length: 255589459 (244M) [application/zip]\n",
            "Saving to: ‘train_V2.csv.zip’\n",
            "\n",
            "train_V2.csv.zip    100%[===================>] 243.75M  9.94MB/s    in 20s     \n",
            "\n",
            "2021-10-24 13:52:25 (12.1 MB/s) - ‘train_V2.csv.zip’ saved [255589459/255589459]\n",
            "\n"
          ]
        }
      ]
    },
    {
      "cell_type": "code",
      "metadata": {
        "colab": {
          "base_uri": "https://localhost:8080/"
        },
        "id": "7wSWvuAc2UVf",
        "outputId": "d739ddc4-cbb7-4abc-f15c-b2f43c6f2b85"
      },
      "source": [
        "!unzip test_V2.csv.zip\n",
        "!unzip train_V2.csv.zip\n",
        "!rm /content/train_V2.csv.zip\n",
        "!rm /content/test_V2.csv.zip"
      ],
      "execution_count": null,
      "outputs": [
        {
          "output_type": "stream",
          "name": "stdout",
          "text": [
            "Archive:  test_V2.csv.zip\n",
            "replace test_V2.csv? [y]es, [n]o, [A]ll, [N]one, [r]ename: N\n",
            "Archive:  train_V2.csv.zip\n",
            "replace train_V2.csv? [y]es, [n]o, [A]ll, [N]one, [r]ename: N\n"
          ]
        }
      ]
    },
    {
      "cell_type": "markdown",
      "metadata": {
        "id": "uq7hhWInzODX"
      },
      "source": [
        "#PUBG: Battle Royale - Finish Placement Prediction"
      ]
    },
    {
      "cell_type": "markdown",
      "metadata": {
        "id": "KYqcX9xCU2te"
      },
      "source": [
        "**Problem Statement:**\n",
        "\n",
        "In a PUBG game, up to 100 players start in each match (**matchId**). Players (**Id**) can be on teams (**groupId**) which get ranked at the end of the game (**winPlacePerc**) based on how many other teams are still alive when they are eliminated. During the game, players can pick up different amunitions, revive downed-but-not-dead (knocked) teammates, drive vehicles, swim, run, shoot, and experience all of the consequences -- such as falling too far or running themselves over and eliminating themselves.\n",
        "\n",
        "The team at [PUBG](https://www.pubg.com/) has made official game data available for the public to explore and scavenge outside of \"The Blue Circle.\" This workshop is not an official or affiliated PUBG site. Its based on the data collected by Kaggle and made available through the [PUBG Developer API](https://developer.pubg.com/).\n",
        "\n",
        "You are provided with a large number of anonymized PUBG game stats, formatted so that each row contains one player's post-game stats. The data comes from matches of all types: solos, duos, squads, and custom; there is no guarantee of there being 100 players per match, nor at most 4 player per group.\n",
        "\n",
        "**Goal:** \n",
        "\n",
        "Perform the PUBG data analysis and answer the following questions:\n",
        "\n",
        "- Does killing more people increases the chance of winning the game?\n",
        "  - **Hint:** Use the correlation between the match winning percentage and number of kills to determine the relationship\n",
        "\n",
        "- How do we catch the fraudsters in the game?\n",
        " - **Hint:** Use various logical conditions based on game knowledge to determine fraudsters in the game\n",
        "\n",
        "- Can we predict the finishing position of a player in the game?\n",
        " - **Hint:** Regression Problem: Train and test a model using regression algorithm to predict the final position of the player at the end of the game. Create a model which **predicts players' finishing placement** based on their final stats, on a scale from 1 (first place) to 0 (last place).\n",
        "\n",
        "\n",
        "\n",
        "\n",
        "![](https://thumbs.gfycat.com/SlimyInsignificantDolphin-max-1mb.gif)"
      ]
    },
    {
      "cell_type": "code",
      "metadata": {
        "id": "FL0_kmDpfAqP"
      },
      "source": [
        "# Importing the required libraries for this project\n",
        "import numpy as np\n",
        "import pandas as pd\n",
        "import matplotlib.pyplot as plt\n",
        "import seaborn as sns \n",
        "import itertools\n",
        "import warnings\n",
        "warnings.filterwarnings(\"ignore\")"
      ],
      "execution_count": null,
      "outputs": []
    },
    {
      "cell_type": "markdown",
      "metadata": {
        "id": "FI8KJpEwF2id"
      },
      "source": [
        "##Loading the Data"
      ]
    },
    {
      "cell_type": "markdown",
      "metadata": {
        "id": "CKhMK-hjRPON"
      },
      "source": [
        "###Reduce Memory Usage"
      ]
    },
    {
      "cell_type": "markdown",
      "metadata": {
        "id": "igDu6PLUcpmg"
      },
      "source": [
        "The size of the PUBG dataset is pretty big for a lower/mid-range laptop so here's a script to make the dataset smaller without losing information.\n",
        "\n",
        "It uses the following approach:\n",
        "- Iterate over every column\n",
        "- Determine if the column is numeric\n",
        "- Determine if the column can be represented by an integer\n",
        "- Find the min and the max value\n",
        "- Determine and apply the smallest datatype that can fit the range of values\n",
        "\n",
        "This reduces the dataset from approx. 900 MB to 466 MB"
      ]
    },
    {
      "cell_type": "code",
      "metadata": {
        "id": "qNPQ876ZD_6O"
      },
      "source": [
        "# Memory saving function credit to https://www.kaggle.com/gemartin/load-data-reduce-memory-usage\n",
        "def reduce_mem_usage(df):\n",
        "    \"\"\" iterate through all the columns of a dataframe and modify the data type\n",
        "        to reduce memory usage.\n",
        "    \"\"\"\n",
        "    start_mem = df.memory_usage().sum() / 1024**2\n",
        "    \n",
        "    for col in df.columns:\n",
        "        col_type = df[col].dtype\n",
        "        \n",
        "        if col_type != object:\n",
        "            c_min = df[col].min()\n",
        "            c_max = df[col].max()\n",
        "            if str(col_type)[:3] == 'int':\n",
        "                if c_min > np.iinfo(np.int8).min and c_max < np.iinfo(np.int8).max:\n",
        "                    df[col] = df[col].astype(np.int8)\n",
        "                elif c_min > np.iinfo(np.int16).min and c_max < np.iinfo(np.int16).max:\n",
        "                    df[col] = df[col].astype(np.int16)\n",
        "                elif c_min > np.iinfo(np.int32).min and c_max < np.iinfo(np.int32).max:\n",
        "                    df[col] = df[col].astype(np.int32)\n",
        "                elif c_min > np.iinfo(np.int64).min and c_max < np.iinfo(np.int64).max:\n",
        "                    df[col] = df[col].astype(np.int64)\n",
        "            else:\n",
        "                #if c_min > np.finfo(np.float16).min and c_max < np.finfo(np.float16).max:\n",
        "                #    df[col] = df[col].astype(np.float16)\n",
        "                #el\n",
        "                if c_min > np.finfo(np.float32).min and c_max < np.finfo(np.float32).max:\n",
        "                    df[col] = df[col].astype(np.float32)\n",
        "                else:\n",
        "                    df[col] = df[col].astype(np.float64)\n",
        "        #else:\n",
        "            #df[col] = df[col].astype('category')\n",
        "\n",
        "    end_mem = df.memory_usage().sum() / 1024**2\n",
        "    print('Memory usage of dataframe is {:.2f} MB --> {:.2f} MB (Decreased by {:.1f}%)'.format(\n",
        "        start_mem, end_mem, 100 * (start_mem - end_mem) / start_mem))\n",
        "    return df"
      ],
      "execution_count": null,
      "outputs": []
    },
    {
      "cell_type": "markdown",
      "metadata": {
        "id": "e7IYP3FfRbkI"
      },
      "source": [
        "###Loading CSV files to Dataframe"
      ]
    },
    {
      "cell_type": "code",
      "metadata": {
        "id": "Iuv_-ELZ8maO",
        "colab": {
          "base_uri": "https://localhost:8080/"
        },
        "outputId": "19cef855-6846-48a9-e8f5-808c3dfa3a03"
      },
      "source": [
        "%%time\n",
        "train = pd.read_csv('/content/train_V2.csv')\n",
        "train = reduce_mem_usage(train)\n",
        "test = pd.read_csv('/content/test_V2.csv')\n",
        "test = reduce_mem_usage(test)\n",
        "print(train.shape, test.shape)"
      ],
      "execution_count": null,
      "outputs": [
        {
          "output_type": "stream",
          "name": "stdout",
          "text": [
            "Memory usage of dataframe is 983.90 MB --> 339.28 MB (Decreased by 65.5%)\n",
            "Memory usage of dataframe is 413.18 MB --> 140.19 MB (Decreased by 66.1%)\n",
            "(4446966, 29) (1934174, 28)\n",
            "CPU times: user 28 s, sys: 3.08 s, total: 31.1 s\n",
            "Wall time: 43.2 s\n"
          ]
        }
      ]
    },
    {
      "cell_type": "code",
      "metadata": {
        "id": "yvDJEBrOUck6",
        "colab": {
          "base_uri": "https://localhost:8080/"
        },
        "outputId": "6622fe37-6656-4f0c-aa44-3ccbb26bd6e3"
      },
      "source": [
        "train.info()"
      ],
      "execution_count": null,
      "outputs": [
        {
          "output_type": "stream",
          "name": "stdout",
          "text": [
            "<class 'pandas.core.frame.DataFrame'>\n",
            "RangeIndex: 4446966 entries, 0 to 4446965\n",
            "Data columns (total 29 columns):\n",
            " #   Column           Dtype  \n",
            "---  ------           -----  \n",
            " 0   Id               object \n",
            " 1   groupId          object \n",
            " 2   matchId          object \n",
            " 3   assists          int8   \n",
            " 4   boosts           int8   \n",
            " 5   damageDealt      float32\n",
            " 6   DBNOs            int8   \n",
            " 7   headshotKills    int8   \n",
            " 8   heals            int8   \n",
            " 9   killPlace        int8   \n",
            " 10  killPoints       int16  \n",
            " 11  kills            int8   \n",
            " 12  killStreaks      int8   \n",
            " 13  longestKill      float32\n",
            " 14  matchDuration    int16  \n",
            " 15  matchType        object \n",
            " 16  maxPlace         int8   \n",
            " 17  numGroups        int8   \n",
            " 18  rankPoints       int16  \n",
            " 19  revives          int8   \n",
            " 20  rideDistance     float32\n",
            " 21  roadKills        int8   \n",
            " 22  swimDistance     float32\n",
            " 23  teamKills        int8   \n",
            " 24  vehicleDestroys  int8   \n",
            " 25  walkDistance     float32\n",
            " 26  weaponsAcquired  int16  \n",
            " 27  winPoints        int16  \n",
            " 28  winPlacePerc     float32\n",
            "dtypes: float32(6), int16(5), int8(14), object(4)\n",
            "memory usage: 339.3+ MB\n"
          ]
        }
      ]
    },
    {
      "cell_type": "code",
      "metadata": {
        "id": "_bnj-GxpUcgs",
        "colab": {
          "base_uri": "https://localhost:8080/",
          "height": 226
        },
        "outputId": "374d2a76-48f1-4240-c7e4-077724f1a3cc"
      },
      "source": [
        "train.head()"
      ],
      "execution_count": null,
      "outputs": [
        {
          "output_type": "execute_result",
          "data": {
            "text/html": [
              "<div>\n",
              "<style scoped>\n",
              "    .dataframe tbody tr th:only-of-type {\n",
              "        vertical-align: middle;\n",
              "    }\n",
              "\n",
              "    .dataframe tbody tr th {\n",
              "        vertical-align: top;\n",
              "    }\n",
              "\n",
              "    .dataframe thead th {\n",
              "        text-align: right;\n",
              "    }\n",
              "</style>\n",
              "<table border=\"1\" class=\"dataframe\">\n",
              "  <thead>\n",
              "    <tr style=\"text-align: right;\">\n",
              "      <th></th>\n",
              "      <th>Id</th>\n",
              "      <th>groupId</th>\n",
              "      <th>matchId</th>\n",
              "      <th>assists</th>\n",
              "      <th>boosts</th>\n",
              "      <th>damageDealt</th>\n",
              "      <th>DBNOs</th>\n",
              "      <th>headshotKills</th>\n",
              "      <th>heals</th>\n",
              "      <th>killPlace</th>\n",
              "      <th>killPoints</th>\n",
              "      <th>kills</th>\n",
              "      <th>killStreaks</th>\n",
              "      <th>longestKill</th>\n",
              "      <th>matchDuration</th>\n",
              "      <th>matchType</th>\n",
              "      <th>maxPlace</th>\n",
              "      <th>numGroups</th>\n",
              "      <th>rankPoints</th>\n",
              "      <th>revives</th>\n",
              "      <th>rideDistance</th>\n",
              "      <th>roadKills</th>\n",
              "      <th>swimDistance</th>\n",
              "      <th>teamKills</th>\n",
              "      <th>vehicleDestroys</th>\n",
              "      <th>walkDistance</th>\n",
              "      <th>weaponsAcquired</th>\n",
              "      <th>winPoints</th>\n",
              "      <th>winPlacePerc</th>\n",
              "    </tr>\n",
              "  </thead>\n",
              "  <tbody>\n",
              "    <tr>\n",
              "      <th>0</th>\n",
              "      <td>7f96b2f878858a</td>\n",
              "      <td>4d4b580de459be</td>\n",
              "      <td>a10357fd1a4a91</td>\n",
              "      <td>0</td>\n",
              "      <td>0</td>\n",
              "      <td>0.000000</td>\n",
              "      <td>0</td>\n",
              "      <td>0</td>\n",
              "      <td>0</td>\n",
              "      <td>60</td>\n",
              "      <td>1241</td>\n",
              "      <td>0</td>\n",
              "      <td>0</td>\n",
              "      <td>0.000000</td>\n",
              "      <td>1306</td>\n",
              "      <td>squad-fpp</td>\n",
              "      <td>28</td>\n",
              "      <td>26</td>\n",
              "      <td>-1</td>\n",
              "      <td>0</td>\n",
              "      <td>0.0000</td>\n",
              "      <td>0</td>\n",
              "      <td>0.00</td>\n",
              "      <td>0</td>\n",
              "      <td>0</td>\n",
              "      <td>244.800003</td>\n",
              "      <td>1</td>\n",
              "      <td>1466</td>\n",
              "      <td>0.4444</td>\n",
              "    </tr>\n",
              "    <tr>\n",
              "      <th>1</th>\n",
              "      <td>eef90569b9d03c</td>\n",
              "      <td>684d5656442f9e</td>\n",
              "      <td>aeb375fc57110c</td>\n",
              "      <td>0</td>\n",
              "      <td>0</td>\n",
              "      <td>91.470001</td>\n",
              "      <td>0</td>\n",
              "      <td>0</td>\n",
              "      <td>0</td>\n",
              "      <td>57</td>\n",
              "      <td>0</td>\n",
              "      <td>0</td>\n",
              "      <td>0</td>\n",
              "      <td>0.000000</td>\n",
              "      <td>1777</td>\n",
              "      <td>squad-fpp</td>\n",
              "      <td>26</td>\n",
              "      <td>25</td>\n",
              "      <td>1484</td>\n",
              "      <td>0</td>\n",
              "      <td>0.0045</td>\n",
              "      <td>0</td>\n",
              "      <td>11.04</td>\n",
              "      <td>0</td>\n",
              "      <td>0</td>\n",
              "      <td>1434.000000</td>\n",
              "      <td>5</td>\n",
              "      <td>0</td>\n",
              "      <td>0.6400</td>\n",
              "    </tr>\n",
              "    <tr>\n",
              "      <th>2</th>\n",
              "      <td>1eaf90ac73de72</td>\n",
              "      <td>6a4a42c3245a74</td>\n",
              "      <td>110163d8bb94ae</td>\n",
              "      <td>1</td>\n",
              "      <td>0</td>\n",
              "      <td>68.000000</td>\n",
              "      <td>0</td>\n",
              "      <td>0</td>\n",
              "      <td>0</td>\n",
              "      <td>47</td>\n",
              "      <td>0</td>\n",
              "      <td>0</td>\n",
              "      <td>0</td>\n",
              "      <td>0.000000</td>\n",
              "      <td>1318</td>\n",
              "      <td>duo</td>\n",
              "      <td>50</td>\n",
              "      <td>47</td>\n",
              "      <td>1491</td>\n",
              "      <td>0</td>\n",
              "      <td>0.0000</td>\n",
              "      <td>0</td>\n",
              "      <td>0.00</td>\n",
              "      <td>0</td>\n",
              "      <td>0</td>\n",
              "      <td>161.800003</td>\n",
              "      <td>2</td>\n",
              "      <td>0</td>\n",
              "      <td>0.7755</td>\n",
              "    </tr>\n",
              "    <tr>\n",
              "      <th>3</th>\n",
              "      <td>4616d365dd2853</td>\n",
              "      <td>a930a9c79cd721</td>\n",
              "      <td>f1f1f4ef412d7e</td>\n",
              "      <td>0</td>\n",
              "      <td>0</td>\n",
              "      <td>32.900002</td>\n",
              "      <td>0</td>\n",
              "      <td>0</td>\n",
              "      <td>0</td>\n",
              "      <td>75</td>\n",
              "      <td>0</td>\n",
              "      <td>0</td>\n",
              "      <td>0</td>\n",
              "      <td>0.000000</td>\n",
              "      <td>1436</td>\n",
              "      <td>squad-fpp</td>\n",
              "      <td>31</td>\n",
              "      <td>30</td>\n",
              "      <td>1408</td>\n",
              "      <td>0</td>\n",
              "      <td>0.0000</td>\n",
              "      <td>0</td>\n",
              "      <td>0.00</td>\n",
              "      <td>0</td>\n",
              "      <td>0</td>\n",
              "      <td>202.699997</td>\n",
              "      <td>3</td>\n",
              "      <td>0</td>\n",
              "      <td>0.1667</td>\n",
              "    </tr>\n",
              "    <tr>\n",
              "      <th>4</th>\n",
              "      <td>315c96c26c9aac</td>\n",
              "      <td>de04010b3458dd</td>\n",
              "      <td>6dc8ff871e21e6</td>\n",
              "      <td>0</td>\n",
              "      <td>0</td>\n",
              "      <td>100.000000</td>\n",
              "      <td>0</td>\n",
              "      <td>0</td>\n",
              "      <td>0</td>\n",
              "      <td>45</td>\n",
              "      <td>0</td>\n",
              "      <td>1</td>\n",
              "      <td>1</td>\n",
              "      <td>58.529999</td>\n",
              "      <td>1424</td>\n",
              "      <td>solo-fpp</td>\n",
              "      <td>97</td>\n",
              "      <td>95</td>\n",
              "      <td>1560</td>\n",
              "      <td>0</td>\n",
              "      <td>0.0000</td>\n",
              "      <td>0</td>\n",
              "      <td>0.00</td>\n",
              "      <td>0</td>\n",
              "      <td>0</td>\n",
              "      <td>49.750000</td>\n",
              "      <td>2</td>\n",
              "      <td>0</td>\n",
              "      <td>0.1875</td>\n",
              "    </tr>\n",
              "  </tbody>\n",
              "</table>\n",
              "</div>"
            ],
            "text/plain": [
              "               Id         groupId  ... winPoints  winPlacePerc\n",
              "0  7f96b2f878858a  4d4b580de459be  ...      1466        0.4444\n",
              "1  eef90569b9d03c  684d5656442f9e  ...         0        0.6400\n",
              "2  1eaf90ac73de72  6a4a42c3245a74  ...         0        0.7755\n",
              "3  4616d365dd2853  a930a9c79cd721  ...         0        0.1667\n",
              "4  315c96c26c9aac  de04010b3458dd  ...         0        0.1875\n",
              "\n",
              "[5 rows x 29 columns]"
            ]
          },
          "metadata": {},
          "execution_count": 7
        }
      ]
    },
    {
      "cell_type": "markdown",
      "metadata": {
        "id": "ULDTEVph8HMh"
      },
      "source": [
        "##Dataset Description: Know your data first!"
      ]
    },
    {
      "cell_type": "markdown",
      "metadata": {
        "id": "Psj69T87Veuq"
      },
      "source": [
        "We’ll be using data collected by Kaggle via the [PUBG Developer API](https://developer.pubg.com/). The dataset comprises of 65,000 games worth of anonymised player data, split into training and tests sets. For the purposes of this exploratory analysis we’re only going to be looking at the training data set.\n",
        "\n",
        "The training set comes in the form of a .CSV file. This file contains 113,290,736 individual data points in 26 columns and 4,357,336 rows.\n",
        "- **groupId** - Integer ID to identify a group within a match. If the same group of players plays in different matches, they will have a different groupId each time. \n",
        "\n",
        "(**Think:** *Will groupID add any value in our prediction?)*\n",
        "- **matchId** - Integer ID to identify match. There are no matches that are in both the training and testing set.\n",
        "\n",
        "(**Think:** *Why matchID won't add any value in our prediction?)*\n",
        "- **assists** - Number of times you helped your friend when he killed an enemy\n",
        "- **boosts** - Number of boost items used.\n",
        "\n",
        "**What is it ?** Boost may refer to Energy Drink,Painkillers, Adrenaline Syringe\n",
        "\n",
        "**About:** The boost bar is a thin white line visible above the health bar. It is cut into 4 sections, which fill up when the player uses a boost item. The first section of the boost bar lasts for 1 minute and will heal 1% health every 8 seconds, for a total of 7% health.\n",
        "- **damageDealt** - Total damage dealt. Note: Self inflicted damage is subtracted.\n",
        "- **DBNOs** - Number of enemy players knocked\n",
        "\n",
        "**What is it?** Stands for 'Down But No Out'. During Duo or squad play, when you lose all your hit points(HP), you get into this mode. In this mode, your duo or squad members can heal you and that is why we don't count this as an out.\n",
        "'Revive State' is a feature in BATTLEGROUNDS that can be used to revive downed squad mates. Once your HP reaches 0 you will go into a DBNO state. You can only crawl and drop items, but you cannot shoot or use items while in this state.\n",
        "- **headshotKills** - Number of enemies you killed with headshots.\n",
        "- **heals** - Number of healing items used.\n",
        "\n",
        "(**Think:** *Will heals add any value in predicting finish placement?)*\n",
        "\n",
        "**About:** There are three basic health items in PUBG: Bandages, First Aid Kits and Med Kits. These all restore your health bar. \n",
        "- **killPlace** - Your ranking in match in terms of number of enemy players killed.\n",
        "- **killPoints** - Kills-based external ranking of player. (Ranking where only winning matters).\n",
        "- **kills** - Number of enemy players killed.\n",
        "- **killStreaks** - Max number of enemy players killed in a short amount of time. A Killstreak is earned when a player acquires a certain number of kills in a row without dying.\n",
        "- **longestKill** - Longest distance between player and player killed at time of death. This may be misleading, as downing a - player and driving away may lead to a large longestKill stat.\n",
        "- **maxPlace** - Worst placement we have data for in the match. This may not match with numGroups, as sometimes the data skips over placements.\n",
        "- **numGroups** - Number of groups we have data for in the match.\n",
        "- **revives** - Number of times you revived your teammates.\n",
        "- **rideDistance** - Total distance traveled in vehicles (measured in meters).\n",
        "- **roadKills** - Number of enemy killed while travelling in a vehicle.\n",
        "- **swimDistance** - Total distance traveled by swimming (measured in meters).\n",
        "- **teamKills** - Number of times you are killed your teammate.\n",
        "- **vehicleDestroys** - Number of vehicles destroyed.\n",
        "- **walkDistance** - Total distance traveled on foot (measured in meters).\n",
        "- **weaponsAcquired** - Number of weapons picked up.\n",
        "- **winPoints** - Win-based external ranking of player. (Ranking where only winning matters).\n",
        "- **winPlacePerc** - The target of prediction **(Target Variable)**. This is a percentile winning placement, where 1 corresponds to 1st place, and 0 corresponds to last place in the match. It is calculated off of maxPlace, not numGroups, so it is possible to have missing chunks in a match."
      ]
    },
    {
      "cell_type": "code",
      "metadata": {
        "id": "Eg8UCXx7O6gS",
        "colab": {
          "base_uri": "https://localhost:8080/",
          "height": 383
        },
        "outputId": "ff8bdb15-e3a9-4b5b-9f19-5985cbcbbbe9"
      },
      "source": [
        "train.tail(10)"
      ],
      "execution_count": null,
      "outputs": [
        {
          "output_type": "execute_result",
          "data": {
            "text/html": [
              "<div>\n",
              "<style scoped>\n",
              "    .dataframe tbody tr th:only-of-type {\n",
              "        vertical-align: middle;\n",
              "    }\n",
              "\n",
              "    .dataframe tbody tr th {\n",
              "        vertical-align: top;\n",
              "    }\n",
              "\n",
              "    .dataframe thead th {\n",
              "        text-align: right;\n",
              "    }\n",
              "</style>\n",
              "<table border=\"1\" class=\"dataframe\">\n",
              "  <thead>\n",
              "    <tr style=\"text-align: right;\">\n",
              "      <th></th>\n",
              "      <th>Id</th>\n",
              "      <th>groupId</th>\n",
              "      <th>matchId</th>\n",
              "      <th>assists</th>\n",
              "      <th>boosts</th>\n",
              "      <th>damageDealt</th>\n",
              "      <th>DBNOs</th>\n",
              "      <th>headshotKills</th>\n",
              "      <th>heals</th>\n",
              "      <th>killPlace</th>\n",
              "      <th>killPoints</th>\n",
              "      <th>kills</th>\n",
              "      <th>killStreaks</th>\n",
              "      <th>longestKill</th>\n",
              "      <th>matchDuration</th>\n",
              "      <th>matchType</th>\n",
              "      <th>maxPlace</th>\n",
              "      <th>numGroups</th>\n",
              "      <th>rankPoints</th>\n",
              "      <th>revives</th>\n",
              "      <th>rideDistance</th>\n",
              "      <th>roadKills</th>\n",
              "      <th>swimDistance</th>\n",
              "      <th>teamKills</th>\n",
              "      <th>vehicleDestroys</th>\n",
              "      <th>walkDistance</th>\n",
              "      <th>weaponsAcquired</th>\n",
              "      <th>winPoints</th>\n",
              "      <th>winPlacePerc</th>\n",
              "    </tr>\n",
              "  </thead>\n",
              "  <tbody>\n",
              "    <tr>\n",
              "      <th>4446956</th>\n",
              "      <td>dae05e0d743059</td>\n",
              "      <td>3902915a7a1943</td>\n",
              "      <td>97b64a07c05761</td>\n",
              "      <td>1</td>\n",
              "      <td>0</td>\n",
              "      <td>151.899994</td>\n",
              "      <td>0</td>\n",
              "      <td>0</td>\n",
              "      <td>1</td>\n",
              "      <td>77</td>\n",
              "      <td>0</td>\n",
              "      <td>0</td>\n",
              "      <td>0</td>\n",
              "      <td>0.00</td>\n",
              "      <td>1693</td>\n",
              "      <td>squad-fpp</td>\n",
              "      <td>29</td>\n",
              "      <td>28</td>\n",
              "      <td>1500</td>\n",
              "      <td>1</td>\n",
              "      <td>0.000000</td>\n",
              "      <td>0</td>\n",
              "      <td>0.000</td>\n",
              "      <td>0</td>\n",
              "      <td>0</td>\n",
              "      <td>828.299988</td>\n",
              "      <td>7</td>\n",
              "      <td>0</td>\n",
              "      <td>0.1071</td>\n",
              "    </tr>\n",
              "    <tr>\n",
              "      <th>4446957</th>\n",
              "      <td>2a4163ccbe0e3b</td>\n",
              "      <td>2689c981578849</td>\n",
              "      <td>eebc058a45ff13</td>\n",
              "      <td>0</td>\n",
              "      <td>1</td>\n",
              "      <td>100.000000</td>\n",
              "      <td>0</td>\n",
              "      <td>0</td>\n",
              "      <td>0</td>\n",
              "      <td>32</td>\n",
              "      <td>0</td>\n",
              "      <td>1</td>\n",
              "      <td>1</td>\n",
              "      <td>12.02</td>\n",
              "      <td>1396</td>\n",
              "      <td>duo-fpp</td>\n",
              "      <td>49</td>\n",
              "      <td>49</td>\n",
              "      <td>1546</td>\n",
              "      <td>1</td>\n",
              "      <td>0.000000</td>\n",
              "      <td>0</td>\n",
              "      <td>0.000</td>\n",
              "      <td>0</td>\n",
              "      <td>0</td>\n",
              "      <td>363.700012</td>\n",
              "      <td>2</td>\n",
              "      <td>0</td>\n",
              "      <td>0.4583</td>\n",
              "    </tr>\n",
              "    <tr>\n",
              "      <th>4446958</th>\n",
              "      <td>837349af7e8a35</td>\n",
              "      <td>58bc4104935623</td>\n",
              "      <td>2001300d4f5787</td>\n",
              "      <td>0</td>\n",
              "      <td>0</td>\n",
              "      <td>0.000000</td>\n",
              "      <td>0</td>\n",
              "      <td>0</td>\n",
              "      <td>0</td>\n",
              "      <td>92</td>\n",
              "      <td>0</td>\n",
              "      <td>0</td>\n",
              "      <td>0</td>\n",
              "      <td>0.00</td>\n",
              "      <td>1414</td>\n",
              "      <td>duo-fpp</td>\n",
              "      <td>48</td>\n",
              "      <td>44</td>\n",
              "      <td>1546</td>\n",
              "      <td>0</td>\n",
              "      <td>0.000000</td>\n",
              "      <td>0</td>\n",
              "      <td>0.000</td>\n",
              "      <td>0</td>\n",
              "      <td>0</td>\n",
              "      <td>0.000000</td>\n",
              "      <td>0</td>\n",
              "      <td>0</td>\n",
              "      <td>0.0000</td>\n",
              "    </tr>\n",
              "    <tr>\n",
              "      <th>4446959</th>\n",
              "      <td>d29bfa313ad766</td>\n",
              "      <td>ac3f1b4a56e5ad</td>\n",
              "      <td>2f3b1af94739b3</td>\n",
              "      <td>0</td>\n",
              "      <td>0</td>\n",
              "      <td>22.680000</td>\n",
              "      <td>0</td>\n",
              "      <td>0</td>\n",
              "      <td>0</td>\n",
              "      <td>89</td>\n",
              "      <td>0</td>\n",
              "      <td>0</td>\n",
              "      <td>0</td>\n",
              "      <td>0.00</td>\n",
              "      <td>1456</td>\n",
              "      <td>solo-fpp</td>\n",
              "      <td>96</td>\n",
              "      <td>95</td>\n",
              "      <td>1787</td>\n",
              "      <td>0</td>\n",
              "      <td>0.000000</td>\n",
              "      <td>0</td>\n",
              "      <td>0.000</td>\n",
              "      <td>0</td>\n",
              "      <td>0</td>\n",
              "      <td>40.250000</td>\n",
              "      <td>1</td>\n",
              "      <td>0</td>\n",
              "      <td>0.0842</td>\n",
              "    </tr>\n",
              "    <tr>\n",
              "      <th>4446960</th>\n",
              "      <td>69fa4c2d5431b1</td>\n",
              "      <td>2a3ad0e37fb6ce</td>\n",
              "      <td>818ccf2160343f</td>\n",
              "      <td>0</td>\n",
              "      <td>0</td>\n",
              "      <td>327.700012</td>\n",
              "      <td>3</td>\n",
              "      <td>2</td>\n",
              "      <td>0</td>\n",
              "      <td>4</td>\n",
              "      <td>0</td>\n",
              "      <td>4</td>\n",
              "      <td>3</td>\n",
              "      <td>90.25</td>\n",
              "      <td>1936</td>\n",
              "      <td>squad-fpp</td>\n",
              "      <td>30</td>\n",
              "      <td>28</td>\n",
              "      <td>1477</td>\n",
              "      <td>0</td>\n",
              "      <td>180.399994</td>\n",
              "      <td>0</td>\n",
              "      <td>0.000</td>\n",
              "      <td>0</td>\n",
              "      <td>0</td>\n",
              "      <td>845.599976</td>\n",
              "      <td>3</td>\n",
              "      <td>0</td>\n",
              "      <td>0.2414</td>\n",
              "    </tr>\n",
              "    <tr>\n",
              "      <th>4446961</th>\n",
              "      <td>afff7f652dbc10</td>\n",
              "      <td>d238e426f50de7</td>\n",
              "      <td>18492834ce5635</td>\n",
              "      <td>0</td>\n",
              "      <td>0</td>\n",
              "      <td>0.000000</td>\n",
              "      <td>0</td>\n",
              "      <td>0</td>\n",
              "      <td>0</td>\n",
              "      <td>74</td>\n",
              "      <td>1029</td>\n",
              "      <td>0</td>\n",
              "      <td>0</td>\n",
              "      <td>0.00</td>\n",
              "      <td>1873</td>\n",
              "      <td>squad-fpp</td>\n",
              "      <td>29</td>\n",
              "      <td>28</td>\n",
              "      <td>-1</td>\n",
              "      <td>0</td>\n",
              "      <td>1292.000000</td>\n",
              "      <td>0</td>\n",
              "      <td>0.000</td>\n",
              "      <td>0</td>\n",
              "      <td>0</td>\n",
              "      <td>1019.000000</td>\n",
              "      <td>3</td>\n",
              "      <td>1507</td>\n",
              "      <td>0.1786</td>\n",
              "    </tr>\n",
              "    <tr>\n",
              "      <th>4446962</th>\n",
              "      <td>f4197cf374e6c0</td>\n",
              "      <td>408cdb5c46b2ac</td>\n",
              "      <td>ee854b837376d9</td>\n",
              "      <td>0</td>\n",
              "      <td>1</td>\n",
              "      <td>44.150002</td>\n",
              "      <td>0</td>\n",
              "      <td>0</td>\n",
              "      <td>0</td>\n",
              "      <td>69</td>\n",
              "      <td>0</td>\n",
              "      <td>0</td>\n",
              "      <td>0</td>\n",
              "      <td>0.00</td>\n",
              "      <td>1435</td>\n",
              "      <td>solo</td>\n",
              "      <td>93</td>\n",
              "      <td>93</td>\n",
              "      <td>1501</td>\n",
              "      <td>0</td>\n",
              "      <td>0.000000</td>\n",
              "      <td>0</td>\n",
              "      <td>0.000</td>\n",
              "      <td>0</td>\n",
              "      <td>0</td>\n",
              "      <td>81.699997</td>\n",
              "      <td>6</td>\n",
              "      <td>0</td>\n",
              "      <td>0.2935</td>\n",
              "    </tr>\n",
              "    <tr>\n",
              "      <th>4446963</th>\n",
              "      <td>e1948b1295c88a</td>\n",
              "      <td>e26ac84bdf7cef</td>\n",
              "      <td>6d0cd12784f1ab</td>\n",
              "      <td>0</td>\n",
              "      <td>0</td>\n",
              "      <td>59.060001</td>\n",
              "      <td>0</td>\n",
              "      <td>0</td>\n",
              "      <td>0</td>\n",
              "      <td>66</td>\n",
              "      <td>0</td>\n",
              "      <td>0</td>\n",
              "      <td>0</td>\n",
              "      <td>0.00</td>\n",
              "      <td>1321</td>\n",
              "      <td>squad-fpp</td>\n",
              "      <td>28</td>\n",
              "      <td>28</td>\n",
              "      <td>1500</td>\n",
              "      <td>0</td>\n",
              "      <td>0.000000</td>\n",
              "      <td>0</td>\n",
              "      <td>2.184</td>\n",
              "      <td>0</td>\n",
              "      <td>0</td>\n",
              "      <td>788.700012</td>\n",
              "      <td>4</td>\n",
              "      <td>0</td>\n",
              "      <td>0.4815</td>\n",
              "    </tr>\n",
              "    <tr>\n",
              "      <th>4446964</th>\n",
              "      <td>cc032cdd73b7ac</td>\n",
              "      <td>c2223f35411394</td>\n",
              "      <td>c9c701d0ad758a</td>\n",
              "      <td>0</td>\n",
              "      <td>4</td>\n",
              "      <td>180.399994</td>\n",
              "      <td>1</td>\n",
              "      <td>1</td>\n",
              "      <td>2</td>\n",
              "      <td>11</td>\n",
              "      <td>0</td>\n",
              "      <td>2</td>\n",
              "      <td>1</td>\n",
              "      <td>98.50</td>\n",
              "      <td>1373</td>\n",
              "      <td>squad-fpp</td>\n",
              "      <td>26</td>\n",
              "      <td>25</td>\n",
              "      <td>1418</td>\n",
              "      <td>2</td>\n",
              "      <td>0.000000</td>\n",
              "      <td>0</td>\n",
              "      <td>0.000</td>\n",
              "      <td>0</td>\n",
              "      <td>0</td>\n",
              "      <td>2748.000000</td>\n",
              "      <td>8</td>\n",
              "      <td>0</td>\n",
              "      <td>0.8000</td>\n",
              "    </tr>\n",
              "    <tr>\n",
              "      <th>4446965</th>\n",
              "      <td>0d8e7ed728b6fd</td>\n",
              "      <td>8c74f72fedf5ff</td>\n",
              "      <td>62a16aabcc095c</td>\n",
              "      <td>0</td>\n",
              "      <td>2</td>\n",
              "      <td>268.000000</td>\n",
              "      <td>0</td>\n",
              "      <td>0</td>\n",
              "      <td>1</td>\n",
              "      <td>18</td>\n",
              "      <td>0</td>\n",
              "      <td>2</td>\n",
              "      <td>1</td>\n",
              "      <td>78.25</td>\n",
              "      <td>1766</td>\n",
              "      <td>solo-fpp</td>\n",
              "      <td>98</td>\n",
              "      <td>94</td>\n",
              "      <td>1590</td>\n",
              "      <td>0</td>\n",
              "      <td>1369.000000</td>\n",
              "      <td>0</td>\n",
              "      <td>0.000</td>\n",
              "      <td>0</td>\n",
              "      <td>0</td>\n",
              "      <td>1244.000000</td>\n",
              "      <td>5</td>\n",
              "      <td>0</td>\n",
              "      <td>0.5464</td>\n",
              "    </tr>\n",
              "  </tbody>\n",
              "</table>\n",
              "</div>"
            ],
            "text/plain": [
              "                     Id         groupId  ... winPoints  winPlacePerc\n",
              "4446956  dae05e0d743059  3902915a7a1943  ...         0        0.1071\n",
              "4446957  2a4163ccbe0e3b  2689c981578849  ...         0        0.4583\n",
              "4446958  837349af7e8a35  58bc4104935623  ...         0        0.0000\n",
              "4446959  d29bfa313ad766  ac3f1b4a56e5ad  ...         0        0.0842\n",
              "4446960  69fa4c2d5431b1  2a3ad0e37fb6ce  ...         0        0.2414\n",
              "4446961  afff7f652dbc10  d238e426f50de7  ...      1507        0.1786\n",
              "4446962  f4197cf374e6c0  408cdb5c46b2ac  ...         0        0.2935\n",
              "4446963  e1948b1295c88a  e26ac84bdf7cef  ...         0        0.4815\n",
              "4446964  cc032cdd73b7ac  c2223f35411394  ...         0        0.8000\n",
              "4446965  0d8e7ed728b6fd  8c74f72fedf5ff  ...         0        0.5464\n",
              "\n",
              "[10 rows x 29 columns]"
            ]
          },
          "metadata": {},
          "execution_count": 8
        }
      ]
    },
    {
      "cell_type": "markdown",
      "metadata": {
        "id": "4liun6ZljDQ7"
      },
      "source": [
        "### Outliers Detection and Anomalies\n",
        "No dataset is ever 100% clean and this PUBG dataset is no different.\n",
        "\n",
        "Some of the data does not reflect the core gameplay because it is drawn from custom game modes or because it has fraudsters. Some of the characteristics of this anomalous data include the following:\n",
        "\n",
        "- Many kills without moving\n",
        "- Many roadkills while driving a very short distance\n",
        "- Suspiciously high number of kills\n",
        "- Suspiciously long range kills\n",
        "\n",
        "We can have a debate on whether to drop this data or not; however, hackers and custom games exist in the test set, so we decided that it is valuable information when training our models.\n",
        "\n",
        "**Corrupt Data:** Due to issues with the API, there is a bug with the groupID column. When a player leaves a match and rejoins, their groupID is reassigned, which causes the creation of larger groups than a gamemode would allow. A squad match only allows 4 people per team. In other words there should be at most 4 of the same groupID’s per team. But because of the bug, we found examples violating this rule in the data. This creates issues when creating team related features as it makes difficult to distinguish the teams.\n",
        "\n",
        "**Useless Data:** Some features like matchId is only useful for feature extraction such as for finding total players in a match. Because matchId is a hex identifier string, it is not ordinal and has very high unique value count, so we cannot one hot encode it as a categorical. We also found that matchID has very little predictive performance on its own."
      ]
    },
    {
      "cell_type": "markdown",
      "metadata": {
        "id": "MB5pARhZ4iZS"
      },
      "source": [
        "![alt text](https://thumbs.gfycat.com/LavishSereneDrever-size_restricted.gif)"
      ]
    },
    {
      "cell_type": "markdown",
      "metadata": {
        "id": "cnjYQs3yO7Fx"
      },
      "source": [
        "##Tasks to be performed:"
      ]
    },
    {
      "cell_type": "markdown",
      "metadata": {
        "id": "Q7ShyVQTV9T0"
      },
      "source": [
        "**Part 1: Exploratory Data Analysis**\n",
        " \n",
        "**Part 2: Data Cleaning: Outlier Detection and Removal - Finding the fraudsters**\n",
        "\n",
        "**Part 3: Feature Engineering**\n",
        "\n",
        "**Part 4: Final Predition**"
      ]
    },
    {
      "cell_type": "markdown",
      "metadata": {
        "id": "IjdhRllVZR8U"
      },
      "source": [
        "#Part 1: Exploratory Data Analysis"
      ]
    },
    {
      "cell_type": "markdown",
      "metadata": {
        "id": "Jzm52YxhxzW2"
      },
      "source": [
        "###Unique count of Id, groupId, matchId"
      ]
    },
    {
      "cell_type": "code",
      "metadata": {
        "id": "ThT-umjqx0F6",
        "colab": {
          "base_uri": "https://localhost:8080/"
        },
        "outputId": "ed6fe038-eec9-418a-9b10-8a5a37446ff1"
      },
      "source": [
        "for i in ['Id','groupId','matchId']:\n",
        "    print(f'unique [{i}] count:', train[i].nunique())"
      ],
      "execution_count": null,
      "outputs": [
        {
          "output_type": "stream",
          "name": "stdout",
          "text": [
            "unique [Id] count: 4446966\n",
            "unique [groupId] count: 2026745\n",
            "unique [matchId] count: 47965\n"
          ]
        }
      ]
    },
    {
      "cell_type": "markdown",
      "metadata": {
        "id": "XI_ydAK3yAzS"
      },
      "source": [
        "### Exploring Different Match Type\n",
        "PUBG offers 3 different game modes:\n",
        "- Solo - One can play alone (solo,solo-fpp,normal-solo,normal-solo-fpp)\n",
        "- Duo - Play with a friend (duo,duo-fpp,normal-duo,normal-duo-fpp,crashfpp,crashtpp)\n",
        "- Squad - Play with 4 friends (squad,squad-fpp,normal-squad,normal-squad-fpp,flarefpp,flaretpp)"
      ]
    },
    {
      "cell_type": "code",
      "metadata": {
        "id": "tDV_HJ3ZyI4v",
        "colab": {
          "base_uri": "https://localhost:8080/",
          "height": 361
        },
        "outputId": "6185fb41-ad0c-4dd5-a1d9-cb9018030dc3"
      },
      "source": [
        "fig, ax = plt.subplots(1, 2, figsize=(12, 4))\n",
        "\n",
        "train.groupby('matchId')['matchType'].first().value_counts().plot.bar(ax=ax[0])\n",
        "\n",
        "mapper = lambda x: 'solo' if ('solo' in x) else 'duo' if ('duo' in x) or ('crash' in x) else 'squad'\n",
        "train['matchType'] = train['matchType'].apply(mapper)\n",
        "train.groupby('matchId')['matchType'].first().value_counts().plot.bar(ax=ax[1])"
      ],
      "execution_count": null,
      "outputs": [
        {
          "output_type": "execute_result",
          "data": {
            "text/plain": [
              "<matplotlib.axes._subplots.AxesSubplot at 0x7f3b50e03510>"
            ]
          },
          "metadata": {},
          "execution_count": 10
        },
        {
          "output_type": "display_data",
          "data": {
            "image/png": "[encoded data removed]",
            "text/plain": [
              "<Figure size 864x288 with 2 Axes>"
            ]
          },
          "metadata": {
            "needs_background": "light"
          }
        }
      ]
    },
    {
      "cell_type": "markdown",
      "metadata": {
        "id": "fTXEw-pfmNdH"
      },
      "source": [
        "###Player Analysis\n",
        "- players in match and group\n",
        "\n",
        "During a game, 100 players join the same server,  so in the case of duos the max teams are 50 and in the case of squads the max teams are 25.\n"
      ]
    },
    {
      "cell_type": "code",
      "metadata": {
        "id": "L2KSRz3jmQ6p",
        "colab": {
          "base_uri": "https://localhost:8080/",
          "height": 206
        },
        "outputId": "d2e7a0df-9ddf-4c3e-bacd-405e58c323c2"
      },
      "source": [
        "def mergeList(list1,list2):\n",
        "    return list(itertools.product(list1,list2))\n",
        "match = train.groupby(['matchType','matchId']).size().to_frame('players in match')\n",
        "group = train.groupby(['matchType','matchId','groupId']).size().to_frame('players in group')\n",
        "pd.concat([match.groupby('matchType').describe()[mergeList(['players in match'],['min','mean','max'])], \n",
        "           group.groupby('matchType').describe()[mergeList(['players in group'],['min','mean','max'])]], axis=1)"
      ],
      "execution_count": null,
      "outputs": [
        {
          "output_type": "execute_result",
          "data": {
            "text/html": [
              "<div>\n",
              "<style scoped>\n",
              "    .dataframe tbody tr th:only-of-type {\n",
              "        vertical-align: middle;\n",
              "    }\n",
              "\n",
              "    .dataframe tbody tr th {\n",
              "        vertical-align: top;\n",
              "    }\n",
              "\n",
              "    .dataframe thead tr th {\n",
              "        text-align: left;\n",
              "    }\n",
              "\n",
              "    .dataframe thead tr:last-of-type th {\n",
              "        text-align: right;\n",
              "    }\n",
              "</style>\n",
              "<table border=\"1\" class=\"dataframe\">\n",
              "  <thead>\n",
              "    <tr>\n",
              "      <th></th>\n",
              "      <th colspan=\"3\" halign=\"left\">players in match</th>\n",
              "      <th colspan=\"3\" halign=\"left\">players in group</th>\n",
              "    </tr>\n",
              "    <tr>\n",
              "      <th></th>\n",
              "      <th>min</th>\n",
              "      <th>mean</th>\n",
              "      <th>max</th>\n",
              "      <th>min</th>\n",
              "      <th>mean</th>\n",
              "      <th>max</th>\n",
              "    </tr>\n",
              "    <tr>\n",
              "      <th>matchType</th>\n",
              "      <th></th>\n",
              "      <th></th>\n",
              "      <th></th>\n",
              "      <th></th>\n",
              "      <th></th>\n",
              "      <th></th>\n",
              "    </tr>\n",
              "  </thead>\n",
              "  <tbody>\n",
              "    <tr>\n",
              "      <th>duo</th>\n",
              "      <td>7.0</td>\n",
              "      <td>92.985658</td>\n",
              "      <td>100.0</td>\n",
              "      <td>1.0</td>\n",
              "      <td>2.050456</td>\n",
              "      <td>72.0</td>\n",
              "    </tr>\n",
              "    <tr>\n",
              "      <th>solo</th>\n",
              "      <td>1.0</td>\n",
              "      <td>89.031872</td>\n",
              "      <td>100.0</td>\n",
              "      <td>1.0</td>\n",
              "      <td>1.039249</td>\n",
              "      <td>64.0</td>\n",
              "    </tr>\n",
              "    <tr>\n",
              "      <th>squad</th>\n",
              "      <td>5.0</td>\n",
              "      <td>93.723193</td>\n",
              "      <td>100.0</td>\n",
              "      <td>1.0</td>\n",
              "      <td>3.492575</td>\n",
              "      <td>74.0</td>\n",
              "    </tr>\n",
              "  </tbody>\n",
              "</table>\n",
              "</div>"
            ],
            "text/plain": [
              "          players in match                   players in group                \n",
              "                       min       mean    max              min      mean   max\n",
              "matchType                                                                    \n",
              "duo                    7.0  92.985658  100.0              1.0  2.050456  72.0\n",
              "solo                   1.0  89.031872  100.0              1.0  1.039249  64.0\n",
              "squad                  5.0  93.723193  100.0              1.0  3.492575  74.0"
            ]
          },
          "metadata": {},
          "execution_count": 11
        }
      ]
    },
    {
      "cell_type": "code",
      "metadata": {
        "colab": {
          "base_uri": "https://localhost:8080/",
          "height": 455
        },
        "id": "jdXk4_PHIUyZ",
        "outputId": "924c0cf1-a1fc-4d3e-f646-3c95b437b59d"
      },
      "source": [
        "group"
      ],
      "execution_count": null,
      "outputs": [
        {
          "output_type": "execute_result",
          "data": {
            "text/html": [
              "<div>\n",
              "<style scoped>\n",
              "    .dataframe tbody tr th:only-of-type {\n",
              "        vertical-align: middle;\n",
              "    }\n",
              "\n",
              "    .dataframe tbody tr th {\n",
              "        vertical-align: top;\n",
              "    }\n",
              "\n",
              "    .dataframe thead th {\n",
              "        text-align: right;\n",
              "    }\n",
              "</style>\n",
              "<table border=\"1\" class=\"dataframe\">\n",
              "  <thead>\n",
              "    <tr style=\"text-align: right;\">\n",
              "      <th></th>\n",
              "      <th></th>\n",
              "      <th></th>\n",
              "      <th>players in group</th>\n",
              "    </tr>\n",
              "    <tr>\n",
              "      <th>matchType</th>\n",
              "      <th>matchId</th>\n",
              "      <th>groupId</th>\n",
              "      <th></th>\n",
              "    </tr>\n",
              "  </thead>\n",
              "  <tbody>\n",
              "    <tr>\n",
              "      <th rowspan=\"5\" valign=\"top\">duo</th>\n",
              "      <th rowspan=\"5\" valign=\"top\">0003b92987589e</th>\n",
              "      <th>024136db14272c</th>\n",
              "      <td>2</td>\n",
              "    </tr>\n",
              "    <tr>\n",
              "      <th>058b63035c6c08</th>\n",
              "      <td>2</td>\n",
              "    </tr>\n",
              "    <tr>\n",
              "      <th>0c7fbc2742917b</th>\n",
              "      <td>2</td>\n",
              "    </tr>\n",
              "    <tr>\n",
              "      <th>1add3b8ce32302</th>\n",
              "      <td>2</td>\n",
              "    </tr>\n",
              "    <tr>\n",
              "      <th>1ed2da8e6c07b5</th>\n",
              "      <td>2</td>\n",
              "    </tr>\n",
              "    <tr>\n",
              "      <th>...</th>\n",
              "      <th>...</th>\n",
              "      <th>...</th>\n",
              "      <td>...</td>\n",
              "    </tr>\n",
              "    <tr>\n",
              "      <th rowspan=\"5\" valign=\"top\">squad</th>\n",
              "      <th rowspan=\"5\" valign=\"top\">fffe92232706aa</th>\n",
              "      <th>b671eab579d429</th>\n",
              "      <td>1</td>\n",
              "    </tr>\n",
              "    <tr>\n",
              "      <th>bd5b4ecf8067ab</th>\n",
              "      <td>3</td>\n",
              "    </tr>\n",
              "    <tr>\n",
              "      <th>c8e95cc6c06d41</th>\n",
              "      <td>6</td>\n",
              "    </tr>\n",
              "    <tr>\n",
              "      <th>d57f3a3ed40913</th>\n",
              "      <td>4</td>\n",
              "    </tr>\n",
              "    <tr>\n",
              "      <th>d8fa9cfd6f9560</th>\n",
              "      <td>7</td>\n",
              "    </tr>\n",
              "  </tbody>\n",
              "</table>\n",
              "<p>2026745 rows × 1 columns</p>\n",
              "</div>"
            ],
            "text/plain": [
              "                                         players in group\n",
              "matchType matchId        groupId                         \n",
              "duo       0003b92987589e 024136db14272c                 2\n",
              "                         058b63035c6c08                 2\n",
              "                         0c7fbc2742917b                 2\n",
              "                         1add3b8ce32302                 2\n",
              "                         1ed2da8e6c07b5                 2\n",
              "...                                                   ...\n",
              "squad     fffe92232706aa b671eab579d429                 1\n",
              "                         bd5b4ecf8067ab                 3\n",
              "                         c8e95cc6c06d41                 6\n",
              "                         d57f3a3ed40913                 4\n",
              "                         d8fa9cfd6f9560                 7\n",
              "\n",
              "[2026745 rows x 1 columns]"
            ]
          },
          "metadata": {},
          "execution_count": 12
        }
      ]
    },
    {
      "cell_type": "code",
      "metadata": {
        "id": "e8iXwvkTnhdN",
        "colab": {
          "base_uri": "https://localhost:8080/"
        },
        "outputId": "0f8a19d5-332e-4e1d-aefe-30d46ab8bf70"
      },
      "source": [
        "print(group['players in group'].nlargest(5))"
      ],
      "execution_count": null,
      "outputs": [
        {
          "output_type": "stream",
          "name": "stdout",
          "text": [
            "matchType  matchId         groupId       \n",
            "squad      b30f3d87189aa6  14d6b54cdec6bc    74\n",
            "duo        3e029737889ce9  b8275198faa03b    72\n",
            "solo       41a634f62f86b7  128b07271aa012    64\n",
            "duo        7e93ce71ac6f61  7385e5fe214021    49\n",
            "squad      3c2531adf5b942  e52a2e6ca30474    36\n",
            "Name: players in group, dtype: int64\n"
          ]
        }
      ]
    },
    {
      "cell_type": "code",
      "metadata": {
        "id": "CFWoWcKSnrbt",
        "colab": {
          "base_uri": "https://localhost:8080/"
        },
        "outputId": "5bf1bc3a-a777-4530-8937-f80e2660ff41"
      },
      "source": [
        "''' ex) matchId=='3e029737889ce9', groupId=='b8275198faa03b'\n",
        "'''\n",
        "subset = train[train['matchId']=='3e029737889ce9']\n",
        "sub_grp = subset[subset['groupId']=='b8275198faa03b']\n",
        "\n",
        "print('matchId ==\\'3e029737889ce9\\' & groupId ==\\'b8275198faa03b\\'')\n",
        "print('-'*50)\n",
        "print('players:',len(subset))\n",
        "print('groups:',subset['groupId'].nunique())\n",
        "print('numGroups:',subset['numGroups'].unique())\n",
        "print('maxPlace:',subset['maxPlace'].unique())\n",
        "print('-'*50)\n",
        "print('max-group players:',len(sub_grp))\n",
        "print('max-group winPlacePerc:',sub_grp['winPlacePerc'].unique())\n",
        "print('-'*50)\n",
        "print('winPlacePerc:',subset['winPlacePerc'].sort_values().unique())"
      ],
      "execution_count": null,
      "outputs": [
        {
          "output_type": "stream",
          "name": "stdout",
          "text": [
            "matchId =='3e029737889ce9' & groupId =='b8275198faa03b'\n",
            "--------------------------------------------------\n",
            "players: 99\n",
            "groups: 14\n",
            "numGroups: [14]\n",
            "maxPlace: [50]\n",
            "--------------------------------------------------\n",
            "max-group players: 72\n",
            "max-group winPlacePerc: [0.2449]\n",
            "--------------------------------------------------\n",
            "winPlacePerc: [0.     0.0204 0.0408 0.0612 0.0816 0.102  0.1224 0.1633 0.1837 0.2041\n",
            " 0.2245 0.2449 0.5102 1.    ]\n"
          ]
        }
      ]
    },
    {
      "cell_type": "markdown",
      "metadata": {
        "id": "rZCtzbdaKrT-"
      },
      "source": [
        "#Check correlation of the feature with Winning Percentage"
      ]
    },
    {
      "cell_type": "code",
      "metadata": {
        "id": "Fa8sIfvlWJVF",
        "colab": {
          "base_uri": "https://localhost:8080/",
          "height": 946
        },
        "outputId": "4493846b-dda3-4aaf-9a3f-8617f1e3b969"
      },
      "source": [
        "corr = train.corr()\n",
        "f,ax = plt.subplots(figsize=(20, 15))\n",
        "sns.heatmap(train.corr(), annot=True, fmt= '.1f',ax=ax, cmap=\"BrBG\")\n",
        "sns.set(font_scale=1.25)\n",
        "plt.show()"
      ],
      "execution_count": null,
      "outputs": [
        {
          "output_type": "display_data",
          "data": {
            "image/png": "[encoded data removed]",
            "text/plain": [
              "<Figure size 1440x1080 with 2 Axes>"
            ]
          },
          "metadata": {
            "needs_background": "light"
          }
        }
      ]
    },
    {
      "cell_type": "markdown",
      "metadata": {
        "id": "NdmNfCS8w7KE"
      },
      "source": [
        "# Part 2: Feature Engineering"
      ]
    },
    {
      "cell_type": "markdown",
      "metadata": {
        "id": "6l3n2dKK79Zg"
      },
      "source": [
        "##Analysing the Kills\n"
      ]
    },
    {
      "cell_type": "markdown",
      "metadata": {
        "id": "nuLZ5s76BLNR"
      },
      "source": [
        "![alt text](https://steamuserimages-a.akamaihd.net/ugc/842590018019929617/58725F9B0995477885F13874DF23461A6F47D90F/)"
      ]
    },
    {
      "cell_type": "code",
      "metadata": {
        "id": "KXuo69AN5Y6n",
        "colab": {
          "base_uri": "https://localhost:8080/"
        },
        "outputId": "45ea98a2-0c5b-40d5-c555-eb08839b3e59"
      },
      "source": [
        "print(\"On an average a person kills {:.4f} players, 99% of people have {} kills or less, while the maximum kills ever recorded is {}.\".format(train['kills'].mean(),train['kills'].quantile(0.99), train['kills'].max()))"
      ],
      "execution_count": null,
      "outputs": [
        {
          "output_type": "stream",
          "name": "stdout",
          "text": [
            "On an average a person kills 0.9248 players, 99% of people have 7.0 kills or less, while the maximum kills ever recorded is 72.\n"
          ]
        }
      ]
    },
    {
      "cell_type": "code",
      "metadata": {
        "id": "cHPzDIQrS1U5",
        "colab": {
          "base_uri": "https://localhost:8080/",
          "height": 525
        },
        "outputId": "24270d03-ef83-4ea9-dabc-6f20011a5c8e"
      },
      "source": [
        "data = train.copy()\n",
        "data.loc[data['kills'] > data['kills'].quantile(0.99)] = '8+'\n",
        "plt.figure(figsize=(15,8))\n",
        "sns.countplot(data['kills'].astype('str').sort_values())\n",
        "plt.title(\"Kill Count\",fontsize=14)\n",
        "plt.show()"
      ],
      "execution_count": null,
      "outputs": [
        {
          "output_type": "display_data",
          "data": {
            "image/png": "[encoded data removed]",
            "text/plain": [
              "<Figure size 1080x576 with 1 Axes>"
            ]
          },
          "metadata": {}
        }
      ]
    },
    {
      "cell_type": "markdown",
      "metadata": {
        "id": "wWLu2vLjui31"
      },
      "source": [
        "It seems most of the people cannot even make a single kill. But atleast they deal with some damage"
      ]
    },
    {
      "cell_type": "code",
      "metadata": {
        "id": "I-M_rSNmS-fr",
        "colab": {
          "base_uri": "https://localhost:8080/",
          "height": 526
        },
        "outputId": "5504bdd3-2307-4a45-f4ec-6dd94a8e0462"
      },
      "source": [
        "data = train.copy()\n",
        "data = data[data['kills']==0]\n",
        "plt.figure(figsize=(15,8))\n",
        "plt.title(\"Damage Dealt by 0 killers\",fontsize=15)\n",
        "sns.distplot(data['damageDealt'])\n",
        "plt.show()"
      ],
      "execution_count": null,
      "outputs": [
        {
          "output_type": "display_data",
          "data": {
            "image/png": "[encoded data removed]",
            "text/plain": [
              "<Figure size 1080x576 with 1 Axes>"
            ]
          },
          "metadata": {}
        }
      ]
    },
    {
      "cell_type": "markdown",
      "metadata": {
        "id": "MER6wUW2vE7y"
      },
      "source": [
        "Well there are few people who win without even making a single kill or dealing with damage.\n"
      ]
    },
    {
      "cell_type": "code",
      "metadata": {
        "id": "PeIaIi8XTZUx",
        "colab": {
          "base_uri": "https://localhost:8080/"
        },
        "outputId": "50e1e6a4-7252-44a9-82ba-95ae1ef7fa10"
      },
      "source": [
        "print(\"A total of {} players ({:.4f}%) have won without a single kill!\".format(len(data[data['winPlacePerc']==1]), 100*len(data[data['winPlacePerc']==1])/len(train)))\n",
        "data1 = train[train['damageDealt'] == 0].copy()\n",
        "print(\"A total of {} players ({:.4f}%) have won without dealing damage!\".format(len(data1[data1['winPlacePerc']==1]), 100*len(data1[data1['winPlacePerc']==1])/len(train)))"
      ],
      "execution_count": null,
      "outputs": [
        {
          "output_type": "stream",
          "name": "stdout",
          "text": [
            "A total of 16666 players (0.3748%) have won without a single kill!\n",
            "A total of 4770 players (0.1073%) have won without dealing damage!\n"
          ]
        }
      ]
    },
    {
      "cell_type": "markdown",
      "metadata": {
        "id": "lvCNocFPksaw"
      },
      "source": [
        "###Effect of Kiiling on Winning percentage"
      ]
    },
    {
      "cell_type": "markdown",
      "metadata": {
        "id": "UdHpVd9Pv2PB"
      },
      "source": [
        "As shown below by the increasing mean of win percentage placement, we found that kill count was correlated with our target variable, which makes sense because **more kills usually means a player is better skilled and will rank closer to the top**."
      ]
    },
    {
      "cell_type": "code",
      "metadata": {
        "id": "qmEhYn5wTfW0",
        "colab": {
          "base_uri": "https://localhost:8080/",
          "height": 508
        },
        "outputId": "ec056ce8-7d60-45c8-c017-98f31ab41acc"
      },
      "source": [
        "kills = train.copy()\n",
        "\n",
        "kills['killsCategories'] = pd.cut(kills['kills'], [-1, 0, 2, 5, 10, 60], labels=['0_kills','1-2_kills', '3-5_kills', '6-10_kills', '10+_kills'])\n",
        "\n",
        "plt.figure(figsize=(15,8))\n",
        "sns.boxplot(x=\"killsCategories\", y=\"winPlacePerc\", data=kills)\n",
        "plt.show()"
      ],
      "execution_count": null,
      "outputs": [
        {
          "output_type": "display_data",
          "data": {
            "image/png": "[encoded data removed]",
            "text/plain": [
              "<Figure size 1080x576 with 1 Axes>"
            ]
          },
          "metadata": {}
        }
      ]
    },
    {
      "cell_type": "markdown",
      "metadata": {
        "id": "OoxJRB0ekFq4"
      },
      "source": [
        "**Inference:** *kills* has a high correlation with *winPlacePerc*."
      ]
    },
    {
      "cell_type": "markdown",
      "metadata": {
        "id": "BICdghv1bbAW"
      },
      "source": [
        "## Analysing Running"
      ]
    },
    {
      "cell_type": "markdown",
      "metadata": {
        "id": "VFDT4PWdBBX-"
      },
      "source": [
        "![alt text](https://cdn.dribbble.com/users/1373613/screenshots/5419266/______-__.gif)"
      ]
    },
    {
      "cell_type": "code",
      "metadata": {
        "id": "_XHYo_Ghbo8h",
        "colab": {
          "base_uri": "https://localhost:8080/"
        },
        "outputId": "608455d7-331b-4a50-90dc-4862a6d9c8a3"
      },
      "source": [
        "print(\"{} players ({:.4f}%) walked 0 meters. This means that either they die before even taking a step or they have just joined the game but are away from keyboard (more possible).\".format(len(data[data['walkDistance'] == 0]), 100*len(data1[data1['walkDistance']==0])/len(train)))"
      ],
      "execution_count": null,
      "outputs": [
        {
          "output_type": "stream",
          "name": "stdout",
          "text": [
            "98054 players (2.0329%) walked 0 meters. This means that either they die before even taking a step or they have just joined the game but are away from keyboard (more possible).\n"
          ]
        }
      ]
    },
    {
      "cell_type": "code",
      "metadata": {
        "id": "2lFaoX2icZ-s",
        "colab": {
          "base_uri": "https://localhost:8080/",
          "height": 635
        },
        "outputId": "ab0e100c-2ecc-42e2-dd7e-5d82991f1bdc"
      },
      "source": [
        "data = train.copy()\n",
        "data = data[data['walkDistance'] < train['walkDistance'].quantile(0.99)]\n",
        "plt.figure(figsize=(15,10))\n",
        "plt.title(\"Walking Distance Distribution\",fontsize=15)\n",
        "sns.distplot(data['walkDistance'],kde=False)\n",
        "plt.show()"
      ],
      "execution_count": null,
      "outputs": [
        {
          "output_type": "display_data",
          "data": {
            "image/png": "[encoded data removed]",
            "text/plain": [
              "<Figure size 1080x720 with 1 Axes>"
            ]
          },
          "metadata": {}
        }
      ]
    },
    {
      "cell_type": "markdown",
      "metadata": {
        "id": "5BX-a0pWkdAP"
      },
      "source": [
        "### Analysing Running: Effect of Running on Winning Percentage"
      ]
    },
    {
      "cell_type": "markdown",
      "metadata": {
        "id": "MsmIt4i1jdcD"
      },
      "source": [
        "\n",
        "The scatter plot below indicates there is a high correlation between running and winning percentage. This isn’t something new since the **longer you’re alive, the more you run and more is the chance of winning**."
      ]
    },
    {
      "cell_type": "markdown",
      "metadata": {
        "id": "-yKFTPuE0Pkl"
      },
      "source": [
        "###jointplot\n",
        "A *marginal plot* or *joint plot* allows to study the relationship between 2 numeric variables. The central chart display their correlation. It is usually a scatterplot, a hexbin plot, a 2D histogram or a 2D density plot. The marginal charts, usually at the top and at the right, show the distribution of the 2 variables using histogram or density plot."
      ]
    },
    {
      "cell_type": "code",
      "metadata": {
        "id": "l-bM324Nf85F",
        "colab": {
          "base_uri": "https://localhost:8080/",
          "height": 718
        },
        "outputId": "30104512-b899-4cbd-967a-79a3704af4f7"
      },
      "source": [
        "#sns.jointplot(x=\"winPlacePerc\", y=\"walkDistance\",  data=train, height=10, ratio=3, color=\"lime\")\n",
        "#plt.show()"
      ],
      "execution_count": null,
      "outputs": [
        {
          "output_type": "display_data",
          "data": {
            "image/png": "[encoded data removed]",
            "text/plain": [
              "<Figure size 720x720 with 3 Axes>"
            ]
          },
          "metadata": {}
        }
      ]
    },
    {
      "cell_type": "markdown",
      "metadata": {
        "id": "S2Vvqg_dj5oz"
      },
      "source": [
        "**Inference:** *Walking* has a high correlation with *winPlacePerc*."
      ]
    },
    {
      "cell_type": "markdown",
      "metadata": {
        "id": "6pkF94AHk6hv"
      },
      "source": [
        "## Analysing Riding"
      ]
    },
    {
      "cell_type": "code",
      "metadata": {
        "id": "trknitQIk89o",
        "colab": {
          "base_uri": "https://localhost:8080/"
        },
        "outputId": "62058e10-bc91-4730-e6b8-14c502e6d7f5"
      },
      "source": [
        "print(\"An average person drives for {:.1f}m, 99% of people have drived {}m or less, while THE RIDER rode for {}m.\".format(train['rideDistance'].mean(), train['rideDistance'].quantile(0.99), train['rideDistance'].max()))"
      ],
      "execution_count": null,
      "outputs": [
        {
          "output_type": "stream",
          "name": "stdout",
          "text": [
            "An average person drives for 606.1m, 99% of people have drived 6966.0m or less, while THE RIDER rode for 40710.0m.\n"
          ]
        }
      ]
    },
    {
      "cell_type": "code",
      "metadata": {
        "id": "ZFTGbyrmlFYa",
        "colab": {
          "base_uri": "https://localhost:8080/",
          "height": 526
        },
        "outputId": "23fb1779-aec7-4ba6-b85b-0cc0692f2dfd"
      },
      "source": [
        "data = train.copy()\n",
        "data = data[data['rideDistance'] < train['rideDistance'].quantile(0.99)]\n",
        "plt.figure(figsize=(15,8))\n",
        "plt.title(\"Ride Distance Distribution\",fontsize=15)\n",
        "sns.distplot(data['rideDistance'])\n",
        "plt.show()"
      ],
      "execution_count": null,
      "outputs": [
        {
          "output_type": "display_data",
          "data": {
            "image/png": "[encoded data removed]",
            "text/plain": [
              "<Figure size 1080x576 with 1 Axes>"
            ]
          },
          "metadata": {}
        }
      ]
    },
    {
      "cell_type": "code",
      "metadata": {
        "id": "rsjpPaD5mG5c",
        "colab": {
          "base_uri": "https://localhost:8080/"
        },
        "outputId": "f516dee9-58d1-45bd-bf9d-f6ae00437cd6"
      },
      "source": [
        "print(\"{} players ({:.4f}%) drived for 0 meters. This means that they like trekking more than riding.\".format(len(data[data['rideDistance'] == 0]), 100*len(data1[data1['rideDistance']==0])/len(train)))"
      ],
      "execution_count": null,
      "outputs": [
        {
          "output_type": "stream",
          "name": "stdout",
          "text": [
            "3309429 players (23.1022%) drived for 0 meters. This means that they like trekking more than riding.\n"
          ]
        }
      ]
    },
    {
      "cell_type": "markdown",
      "metadata": {
        "id": "BQKqJd7bbjCE"
      },
      "source": [
        "## Analysing Riding: Effect of Riding on Winning Percentage"
      ]
    },
    {
      "cell_type": "markdown",
      "metadata": {
        "id": "voTYUBk1n_TC"
      },
      "source": [
        "The scatter plot below indicates there is a small correlation between driving and winning."
      ]
    },
    {
      "cell_type": "code",
      "metadata": {
        "id": "lfJNZ6YZmdAx"
      },
      "source": [
        "sns.jointplot(x=\"winPlacePerc\", y=\"rideDistance\", data=train, height=10, ratio=3, color=\"y\")\n",
        "plt.show()"
      ],
      "execution_count": null,
      "outputs": []
    },
    {
      "cell_type": "markdown",
      "metadata": {
        "id": "xQf9SFxsujL2"
      },
      "source": [
        "Theoretically, if a player is able to destroy the vehicle it indicates the he/she is skilled. Let's check if this theory is correct."
      ]
    },
    {
      "cell_type": "code",
      "metadata": {
        "id": "dDV0DVqDuhzf"
      },
      "source": [
        "f,ax1 = plt.subplots(figsize =(15,8))\n",
        "sns.pointplot(x='vehicleDestroys',y='winPlacePerc',data=data,color='lime',alpha=0.5)\n",
        "plt.xlabel('Count of Vehicle Destroys',fontsize = 16,color='blue')\n",
        "plt.ylabel('Win Percentage',fontsize = 16,color='blue')\n",
        "plt.title('Vehicle Destroyed/ Win Ratio',fontsize = 20,color='blue')\n",
        "plt.grid()\n",
        "plt.show()"
      ],
      "execution_count": null,
      "outputs": []
    },
    {
      "cell_type": "markdown",
      "metadata": {
        "id": "CniTdQQ7lA4B"
      },
      "source": [
        "**Inference:** Destroying vehicles increases your chances of winning!"
      ]
    },
    {
      "cell_type": "markdown",
      "metadata": {
        "id": "c_GYP7PovUl-"
      },
      "source": [
        "## Analysing Healing and Boosting"
      ]
    },
    {
      "cell_type": "code",
      "metadata": {
        "id": "ldOHkQIZvXDz"
      },
      "source": [
        "print(\"In the game on an average a person uses {:.1f} heal items, 99% of people use {} or less, while the doctor used {}.\".format(train['heals'].mean(), train['heals'].quantile(0.99), train['heals'].max()))\n",
        "print(\"In the game on an average a person uses {:.1f} boost items, 99% of people use {} or less, while the doctor used {}.\".format(train['boosts'].mean(), train['boosts'].quantile(0.99), train['boosts'].max()))"
      ],
      "execution_count": null,
      "outputs": []
    },
    {
      "cell_type": "markdown",
      "metadata": {
        "id": "xXCWcc8Ex9Tc"
      },
      "source": [
        "\n",
        "## Analysing Healing and Boosting: Effect of Healing & Boosting on Winning Percentage"
      ]
    },
    {
      "cell_type": "code",
      "metadata": {
        "id": "Qrboaj-XvcRG"
      },
      "source": [
        "data = train.copy()\n",
        "data = data[data['heals'] < data['heals'].quantile(0.99)]\n",
        "data = data[data['boosts'] < data['boosts'].quantile(0.99)]\n",
        "\n",
        "f,ax1 = plt.subplots(figsize =(15,8))\n",
        "sns.pointplot(x='heals',y='winPlacePerc',data=data,color='lime',alpha=0.8)\n",
        "sns.pointplot(x='boosts',y='winPlacePerc',data=data,color='blue',alpha=0.8)\n",
        "plt.text(4,0.6,'Heals',color='lime',fontsize = 16,style = 'italic')\n",
        "plt.text(4,0.55,'Boosts',color='blue',fontsize = 16,style = 'italic')\n",
        "plt.xlabel('Number of heal/boost items',fontsize = 16,color='blue')\n",
        "plt.ylabel('Win Percentage',fontsize = 16,color='blue')\n",
        "plt.title('Heals vs Boosts',fontsize = 20,color='blue')\n",
        "plt.grid()\n",
        "plt.show()"
      ],
      "execution_count": null,
      "outputs": []
    },
    {
      "cell_type": "code",
      "metadata": {
        "id": "eKwAMbSAx4Ia"
      },
      "source": [
        "sns.jointplot(x=\"winPlacePerc\", y=\"heals\", data=train, height=10, ratio=3, color=\"lime\")\n",
        "plt.show()"
      ],
      "execution_count": null,
      "outputs": []
    },
    {
      "cell_type": "code",
      "metadata": {
        "id": "Y_ubvw0-x6Kj"
      },
      "source": [
        "sns.jointplot(x=\"winPlacePerc\", y=\"boosts\", data=train, height=10, ratio=3, color=\"blue\")\n",
        "plt.show()"
      ],
      "execution_count": null,
      "outputs": []
    },
    {
      "cell_type": "markdown",
      "metadata": {
        "id": "ApjsBWLuyr4n"
      },
      "source": [
        "**Inference:** Both healing and boosts have a high correlation with winning, however boosts matter more. Both the plots shows abnormal behaviour at 0\n"
      ]
    },
    {
      "cell_type": "markdown",
      "metadata": {
        "id": "wwP8D23q04k0"
      },
      "source": [
        "##Effect of Killing in different Game type: Solo, Duos and Squad on Winning Percentage"
      ]
    },
    {
      "cell_type": "code",
      "metadata": {
        "id": "2SD4uHj308R4"
      },
      "source": [
        "solos = train[train['numGroups']>50] #Solo game played by more than 50 different groups\n",
        "duos = train[(train['numGroups']>25) & (train['numGroups']<=50)] #Duo game can consist of a maximum of 50 groups(50x2=100) \n",
        "squads = train[train['numGroups']<=25] # Squad game can consist a maximum of 25 groups(25x4=100)\n",
        "print(\"{} ({:.2f}%) of games are solo, {} ({:.2f}%) are duo and {} ({:.2f}%) are squad games.\".format(len(solos), 100*len(solos)/len(train), len(duos), 100*len(duos)/len(train), len(squads), 100*len(squads)/len(train),))"
      ],
      "execution_count": null,
      "outputs": []
    },
    {
      "cell_type": "code",
      "metadata": {
        "id": "AhdDmtIl1JLR"
      },
      "source": [
        "f,ax1 = plt.subplots(figsize =(20,10))\n",
        "sns.pointplot(x='kills',y='winPlacePerc',data=solos,color='black',alpha=0.6)\n",
        "sns.pointplot(x='kills',y='winPlacePerc',data=duos,color='red',alpha=0.6)\n",
        "sns.pointplot(x='kills',y='winPlacePerc',data=squads,color='blue',alpha=0.6)\n",
        "plt.text(14,0.5,'Solos',color='black',fontsize = 16)\n",
        "plt.text(14,0.45,'Duos',color='red',fontsize = 16)\n",
        "plt.text(14,0.4,'Squads',color='blue',fontsize = 16)\n",
        "plt.xlabel('Number of kills',fontsize = 15,color='blue')\n",
        "plt.ylabel('Win Percentage',fontsize = 15,color='blue')\n",
        "plt.title('Solo vs Duo vs Squad Kills',fontsize = 20,color='blue')\n",
        "plt.grid()\n",
        "plt.show()"
      ],
      "execution_count": null,
      "outputs": []
    },
    {
      "cell_type": "markdown",
      "metadata": {
        "id": "HHRbkMe81jpv"
      },
      "source": [
        "**Inference:** Solos and duos behave the same, but when playing squads kills don't matter that much."
      ]
    },
    {
      "cell_type": "markdown",
      "metadata": {
        "id": "qkxr1B-b1Vky"
      },
      "source": [
        "##Effect of Knocking (DBNO), Assisting or Reviving on Winning Percentage"
      ]
    },
    {
      "cell_type": "markdown",
      "metadata": {
        "id": "gcuqdEtu1Vf2"
      },
      "source": [
        "The attribute DBNOs means enemy players knocked. A \"knock\" can happen only in duos or squads, because the teammates have the chance to \"revive\" the knocked player in a given time. So a knocked player can be revived or die. If he is revived, the next time he will be knocked, his teammates will have less time to revive him.\n",
        "\n",
        "The attribute assist can also happen only in duos or squads. It generally means that the player had an involvement in a kill.\n",
        "\n",
        "The attribute revive also happens in duos or squads"
      ]
    },
    {
      "cell_type": "code",
      "metadata": {
        "id": "_i9kHud0XRt_"
      },
      "source": [
        "\"\"\"\n",
        "This is a part of the day 2 assignment\n",
        "Q:\tWhat is the effect of Knocking (DBNO), Assisting or Reviving on Winning Percentage?\n",
        "Hint: Build a joint plot\n",
        "\n",
        "Write your code here\n",
        "\n",
        "\"\"\"\n"
      ],
      "execution_count": null,
      "outputs": []
    },
    {
      "cell_type": "markdown",
      "metadata": {
        "id": "dqy62c0JZcuc"
      },
      "source": [
        "#Part 2: Data Cleaning: Outlier Detection and Removal - Finding the fraudsters"
      ]
    },
    {
      "cell_type": "markdown",
      "metadata": {
        "id": "O8KMnEoWpAvv"
      },
      "source": [
        "## Outliers: How do we catch the fraudsters in the game?"
      ]
    },
    {
      "cell_type": "markdown",
      "metadata": {
        "id": "Otht9j77QtVo"
      },
      "source": [
        "###Illegal Match"
      ]
    },
    {
      "cell_type": "code",
      "metadata": {
        "id": "oqCZtZL3Qs9A"
      },
      "source": [
        "# Check row with NaN value\n",
        "train[train['winPlacePerc'].isnull()]"
      ],
      "execution_count": null,
      "outputs": []
    },
    {
      "cell_type": "code",
      "metadata": {
        "id": "4yvHADhGTyr5"
      },
      "source": [
        "train.drop(train[train['winPlacePerc'].isnull()].index, inplace=True)"
      ],
      "execution_count": null,
      "outputs": []
    },
    {
      "cell_type": "code",
      "metadata": {
        "id": "xv2vX6Z3T5l3"
      },
      "source": [
        "train.shape"
      ],
      "execution_count": null,
      "outputs": []
    },
    {
      "cell_type": "markdown",
      "metadata": {
        "id": "BuXmoO_zqYde"
      },
      "source": [
        "## Anomalies in Killing: Aim Hacks\n",
        "\n",
        "> **Battleground Aimbots**The use of automated aiming software is without a doubt one of the most powerful cheats that can be used in Playerunknowns Battlegrounds at this time. It allows players to bind a key or mouse button to an auto aim and lock on function that will automatically target any ememy in line of sight. If you are playing duo or in a group, group members will not trigger this function. A trigger bot can then be set to automatically shoot for you or you can chose to shoot yourself.\n",
        "\n"
      ]
    },
    {
      "cell_type": "markdown",
      "metadata": {
        "id": "_LV0aFBpyotO"
      },
      "source": [
        "Calculating the totalDistance travelled by a player which is the sum total of rideDistance, walkDistance adn swimDistance"
      ]
    },
    {
      "cell_type": "code",
      "metadata": {
        "id": "RShOpjHKxaem"
      },
      "source": [
        "# Engineer a new feature _totalDistance\n",
        "train['_totalDistance'] = train['rideDistance'] + train['walkDistance'] + train['swimDistance']"
      ],
      "execution_count": null,
      "outputs": []
    },
    {
      "cell_type": "markdown",
      "metadata": {
        "id": "jFJ2dJYL8xsg"
      },
      "source": [
        "Create a new feature 'headshot_rate'. We see that the most players score in the 0 to 10% region. However, there are a few anomalies that have a headshot_rate of 100% percent with more than 9 kills!"
      ]
    },
    {
      "cell_type": "code",
      "metadata": {
        "id": "pIhHSpwhZl79"
      },
      "source": [
        "# Engineer _headshot_rate feature --- headshots made per kill\n",
        "train['_headshot_rate'] = train['headshotKills'] / train['kills']\n",
        "train['_headshot_rate'] = train['_headshot_rate'].fillna(0)"
      ],
      "execution_count": null,
      "outputs": []
    },
    {
      "cell_type": "code",
      "metadata": {
        "id": "kbPXS78PwNnk"
      },
      "source": [
        "#Defining some functions for plotting graphs, we will be needing a lot of countplot and distplot\n",
        "def show_countplot(column):\n",
        "    plt.figure(figsize=(15,8))\n",
        "    sns.countplot(data=train, x=column).set_title(column)\n",
        "    plt.show()\n",
        "    \n",
        "def show_distplot(column):\n",
        "    plt.figure(figsize=(15, 8))\n",
        "    sns.distplot(train[column], bins=50)\n",
        "    plt.show()"
      ],
      "execution_count": null,
      "outputs": []
    },
    {
      "cell_type": "markdown",
      "metadata": {
        "id": "9Dz8_pRNwAS7"
      },
      "source": [
        "### Inhumane kills"
      ]
    },
    {
      "cell_type": "markdown",
      "metadata": {
        "id": "v4BMOulkpLyB"
      },
      "source": [
        "Some rows in our dataset have weird characteristics. The players could be fraudsters, maniacs or just anomalies. Removing these outliers will likely improve results."
      ]
    },
    {
      "cell_type": "markdown",
      "metadata": {
        "id": "XxcsprdV7l8q"
      },
      "source": [
        "Let's take a look at the players who make these shots."
      ]
    },
    {
      "cell_type": "code",
      "metadata": {
        "id": "kVYmXA6RTo9k"
      },
      "source": [
        "show_countplot('kills')"
      ],
      "execution_count": null,
      "outputs": []
    },
    {
      "cell_type": "code",
      "metadata": {
        "id": "eYWbNC77wVYH"
      },
      "source": [
        "# Is it even possible to kill more than 40 people by acquiring more than 55 weapons and maintaining a total distance of less than 100m?\n",
        "train[(train['kills'] >= 40) & (train['weaponsAcquired'] > 55) & (train['_totalDistance'] < 100.0)]"
      ],
      "execution_count": null,
      "outputs": []
    },
    {
      "cell_type": "code",
      "metadata": {
        "id": "8UuX_jwnV8wW"
      },
      "source": [
        "# Is it even possible to kill more than 40 people without using any heals?\n",
        "train[(train['kills'] >= 40) & (train['heals'] == 0)]"
      ],
      "execution_count": null,
      "outputs": []
    },
    {
      "cell_type": "code",
      "metadata": {
        "id": "jG5uJi1I4b6C"
      },
      "source": [
        "# Drop 'fraudsters' with inhumane kill counts\n",
        "train.drop(train[(train['kills'] >= 40) & (train['weaponsAcquired'] > 55) & (train['_totalDistance'] < 100.0)].index, inplace=True)\n",
        "train.drop(train[(train['kills'] >= 40) & (train['heals'] == 0)].index, inplace=True)"
      ],
      "execution_count": null,
      "outputs": []
    },
    {
      "cell_type": "markdown",
      "metadata": {
        "id": "EVfFmcor5OZT"
      },
      "source": [
        "### 100% Headshot Kills\n"
      ]
    },
    {
      "cell_type": "code",
      "metadata": {
        "id": "eE9FRHuT5lLE"
      },
      "source": [
        "# Plot the distribution of headshot_rate\n",
        "show_distplot('_headshot_rate')"
      ],
      "execution_count": null,
      "outputs": []
    },
    {
      "cell_type": "code",
      "metadata": {
        "id": "rnHkyZXb6NFn"
      },
      "source": [
        "# List of Hitman who made more than 10 kills and all the kills were done by headshot(perfect kill)\n",
        "display(train[(train['_headshot_rate'] == 1) & (train['kills'] >=10)].shape)\n",
        "train[(train['_headshot_rate'] == 1) & (train['kills'] >= 10)].head(10)"
      ],
      "execution_count": null,
      "outputs": []
    },
    {
      "cell_type": "markdown",
      "metadata": {
        "id": "imQTFutD6Xmn"
      },
      "source": [
        "It is unclear if these players are cheating or are the legends so for now we are not deleting these players from the dataset. \n"
      ]
    },
    {
      "cell_type": "markdown",
      "metadata": {
        "id": "U74lvRpTyjUj"
      },
      "source": [
        "###Killing without Moving\n",
        "Identify the fraudsters who can making kills without even moving. So for this  we first identify the totalDistance travelled by a player and then set a boolean value to True if someone got kills without even moving a single inch. "
      ]
    },
    {
      "cell_type": "code",
      "metadata": {
        "id": "Phz_1OL0zbIh"
      },
      "source": [
        "# Create feature killsWithoutMoving\n",
        "train['_killsWithoutMoving'] = ((train['kills'] > 0) & (train['_totalDistance'] == 0))\n",
        "# Check players who kills without moving\n",
        "display(train[train['_killsWithoutMoving'] == True].shape)\n",
        "train[train['_killsWithoutMoving'] == True].head(10)"
      ],
      "execution_count": null,
      "outputs": []
    },
    {
      "cell_type": "code",
      "metadata": {
        "id": "4BtyTa814MWM"
      },
      "source": [
        "# Drop kill without moving 'fraudsters'\n",
        "train.drop(train[train['_killsWithoutMoving'] == True].index, inplace=True)"
      ],
      "execution_count": null,
      "outputs": []
    },
    {
      "cell_type": "markdown",
      "metadata": {
        "id": "D_ICgS-G0fmx"
      },
      "source": [
        "###Longest Kill"
      ]
    },
    {
      "cell_type": "markdown",
      "metadata": {
        "id": "5cogDMf-6jsS"
      },
      "source": [
        "Most kills are made from a distance of 100 meters or closer. However there are some players (outliers) who make a kill from more than 1km away. These players are probably fraudsters."
      ]
    },
    {
      "cell_type": "code",
      "metadata": {
        "id": "bipBerPI0idZ"
      },
      "source": [
        "show_distplot('longestKill')"
      ],
      "execution_count": null,
      "outputs": []
    },
    {
      "cell_type": "markdown",
      "metadata": {
        "id": "Up0UONHK0qaw"
      },
      "source": [
        "Is it even posssible to snipe (kill) someone from a distance > 1Km in this game?\n",
        "\n",
        "Let's take a look at the players who took these shots."
      ]
    },
    {
      "cell_type": "code",
      "metadata": {
        "id": "gqx4HtYQ00HA"
      },
      "source": [
        "train[train['longestKill'] >= 1000]"
      ],
      "execution_count": null,
      "outputs": []
    },
    {
      "cell_type": "code",
      "metadata": {
        "id": "AzCiUUW136FA"
      },
      "source": [
        "# Drop longestKill 'fraudsters'\n",
        "train.drop(train[train['longestKill'] >= 1000].index, inplace=True)"
      ],
      "execution_count": null,
      "outputs": []
    },
    {
      "cell_type": "markdown",
      "metadata": {
        "id": "KFP0SJcJ1hBL"
      },
      "source": [
        "###Road Kills"
      ]
    },
    {
      "cell_type": "code",
      "metadata": {
        "id": "Xr7NiZQm1kkA"
      },
      "source": [
        "# Players who got more than 10 roadKills\n",
        "train[train['roadKills'] > 10]"
      ],
      "execution_count": null,
      "outputs": []
    },
    {
      "cell_type": "markdown",
      "metadata": {
        "id": "YbhKn9fX3UCz"
      },
      "source": [
        "Did you noticed how c3e444f7d1289f rode just 5 meters but has killed 14 players in the roadkill. Got LUCKY or just another anomaly?"
      ]
    },
    {
      "cell_type": "code",
      "metadata": {
        "id": "aeS6yz-330BN"
      },
      "source": [
        "# Drop roadKill 'fraudsters'\n",
        "train.drop(train[train['roadKills'] > 10].index, inplace=True)"
      ],
      "execution_count": null,
      "outputs": []
    },
    {
      "cell_type": "markdown",
      "metadata": {
        "id": "MKFEno0-uvuV"
      },
      "source": [
        "## Finding anomaly in travelling"
      ]
    },
    {
      "cell_type": "markdown",
      "metadata": {
        "id": "ucOKsmrOOfJ0"
      },
      "source": [
        " PUBG map is 8*8 km and each yellow square represents 1km.\n",
        "![alt text](https://gamepedia.cursecdn.com/battlegrounds_gamepedia_en/thumb/e/ea/Map.jpg/800px-Map.jpg?version=928379c81f738c9cd92cef477c46f8c3)"
      ]
    },
    {
      "cell_type": "code",
      "metadata": {
        "id": "6tAeCUMYBQi7"
      },
      "source": [
        "train[['walkDistance', 'rideDistance', 'swimDistance']].describe()"
      ],
      "execution_count": null,
      "outputs": []
    },
    {
      "cell_type": "markdown",
      "metadata": {
        "id": "lJeJl3O_FzCE"
      },
      "source": [
        "###Detecting Anomalies in Walking\n"
      ]
    },
    {
      "cell_type": "code",
      "metadata": {
        "id": "RQg170Q0CpFg"
      },
      "source": [
        "show_distplot('walkDistance')"
      ],
      "execution_count": null,
      "outputs": []
    },
    {
      "cell_type": "code",
      "metadata": {
        "id": "Ki_Xpj82DDYb"
      },
      "source": [
        "#Travel Lust and Wandrer ---> They just play to roam around and explore places without killing anyone and how can they travel 13kms in the game?\n",
        "train[(train['walkDistance'] >= 13000) & (train['kills'] == 0)]"
      ],
      "execution_count": null,
      "outputs": []
    },
    {
      "cell_type": "code",
      "metadata": {
        "id": "Wd9EAOdO4588"
      },
      "source": [
        "# Drop walking anomalies\n",
        "train.drop(train[(train['walkDistance'] >= 13000) & (train['kills'] == 0)].index, inplace=True)"
      ],
      "execution_count": null,
      "outputs": []
    },
    {
      "cell_type": "markdown",
      "metadata": {
        "id": "peXBdIcYG2C-"
      },
      "source": [
        "![](https://i.imgur.com/YkvnR9s.gif)"
      ]
    },
    {
      "cell_type": "markdown",
      "metadata": {
        "id": "QjZtRpJUF-tm"
      },
      "source": [
        "###Detecting Anomalies in Riding"
      ]
    },
    {
      "cell_type": "code",
      "metadata": {
        "id": "f5HTZhF8DQ8o"
      },
      "source": [
        "show_distplot('rideDistance')"
      ],
      "execution_count": null,
      "outputs": []
    },
    {
      "cell_type": "code",
      "metadata": {
        "id": "O5dXCRjTD7eO"
      },
      "source": [
        "#Travel Lust and Wandrer ---> They just play to roam around and explore places without killing anyone - How can you ride for 30km?\n",
        "train[(train['rideDistance'] >= 30000) & (train['kills'] == 0)]"
      ],
      "execution_count": null,
      "outputs": []
    },
    {
      "cell_type": "code",
      "metadata": {
        "id": "syQStYJO36U4"
      },
      "source": [
        "# How is it even possible that a player is able to ride and kill without walking even a single meter ?\n",
        "train[(train['walkDistance'] == 0) & (train['rideDistance'] > 0) & (train['kills'] > 0)]"
      ],
      "execution_count": null,
      "outputs": []
    },
    {
      "cell_type": "code",
      "metadata": {
        "id": "M61Y912B6GBq"
      },
      "source": [
        "# What was the player doing in the game when total distance travelled by him/her is 0? \n",
        "train[(train['_totalDistance'] == 0)]"
      ],
      "execution_count": null,
      "outputs": []
    },
    {
      "cell_type": "code",
      "metadata": {
        "id": "m1SIVLHy907D"
      },
      "source": [
        "# Drop riding anomalies\n",
        "train.drop(train[(train['rideDistance'] >= 30000) & (train['kills'] == 0)].index, inplace = True)\n",
        "train.drop(train[(train['walkDistance'] == 0) & (train['rideDistance'] > 0) & (train['kills'] > 0)].index, inplace = True)\n",
        "train.drop(train[(train['_totalDistance'] == 0)].index, inplace=True)"
      ],
      "execution_count": null,
      "outputs": []
    },
    {
      "cell_type": "markdown",
      "metadata": {
        "id": "po2EbO83FEwW"
      },
      "source": [
        "![alt text](https://media.giphy.com/media/qlCFjkSruesco/giphy.gif)"
      ]
    },
    {
      "cell_type": "markdown",
      "metadata": {
        "id": "RcE5yC97rdFL"
      },
      "source": [
        "###Swim Distance"
      ]
    },
    {
      "cell_type": "code",
      "metadata": {
        "id": "U1UBASYxrgKr"
      },
      "source": [
        "show_distplot('swimDistance')"
      ],
      "execution_count": null,
      "outputs": []
    },
    {
      "cell_type": "code",
      "metadata": {
        "id": "GcAD7RfL4D_f"
      },
      "source": [
        "# How can you swim for more than 2 km without breathing?\n",
        "train[train['swimDistance'] >= 2000]"
      ],
      "execution_count": null,
      "outputs": []
    },
    {
      "cell_type": "code",
      "metadata": {
        "id": "6hW6eT2z4WWd"
      },
      "source": [
        "# Remove outliers\n",
        "train.drop(train[train['swimDistance'] >= 2000].index, inplace=True)"
      ],
      "execution_count": null,
      "outputs": []
    },
    {
      "cell_type": "markdown",
      "metadata": {
        "id": "job27Gx24bhY"
      },
      "source": [
        "![](https://i.imgur.com/hxbfBFI.gif)"
      ]
    },
    {
      "cell_type": "markdown",
      "metadata": {
        "id": "34_DJVjkBOA2"
      },
      "source": [
        "## Anomalies detection in Supplies (WeaponAcquired)\n",
        "\n",
        "> Most people acquire between 0 and 10 weapons in a game, but you also see some people acquire more than 80 weapons! Let's check these guys out."
      ]
    },
    {
      "cell_type": "code",
      "metadata": {
        "id": "hxk3SScS6hcM"
      },
      "source": [
        "show_distplot('weaponsAcquired')"
      ],
      "execution_count": null,
      "outputs": []
    },
    {
      "cell_type": "code",
      "metadata": {
        "id": "JFK-oScZ8pWp"
      },
      "source": [
        "display(train[train['weaponsAcquired'] >= 80].shape)\n",
        "train[train['weaponsAcquired'] >= 80].head()"
      ],
      "execution_count": null,
      "outputs": []
    },
    {
      "cell_type": "markdown",
      "metadata": {
        "id": "hM7sK3e69jWg"
      },
      "source": [
        "player 7c8c83f5f97d0f acquired 128 weapons in one game!"
      ]
    },
    {
      "cell_type": "code",
      "metadata": {
        "id": "W-mrCoo89SYp"
      },
      "source": [
        "# Remove outliers\n",
        "train.drop(train[train['weaponsAcquired'] >= 80].index, inplace=True)"
      ],
      "execution_count": null,
      "outputs": []
    },
    {
      "cell_type": "markdown",
      "metadata": {
        "id": "9h7KLt5U-Y5Z"
      },
      "source": [
        "##Anomalies in Heals"
      ]
    },
    {
      "cell_type": "markdown",
      "metadata": {
        "id": "3wgwOUeE-gJH"
      },
      "source": [
        "Most players us 5 healing items or less. We can again recognize some weird anomalies"
      ]
    },
    {
      "cell_type": "code",
      "metadata": {
        "id": "0zRuF0Mz90Po"
      },
      "source": [
        "show_distplot('heals')"
      ],
      "execution_count": null,
      "outputs": []
    },
    {
      "cell_type": "code",
      "metadata": {
        "id": "0yIdreYI-sL3"
      },
      "source": [
        "# 40 or more healing items used\n",
        "display(train[train['heals'] >= 40].shape)\n",
        "train[train['heals'] >= 40].head(10)"
      ],
      "execution_count": null,
      "outputs": []
    },
    {
      "cell_type": "code",
      "metadata": {
        "id": "m6alQtCl-4Pa"
      },
      "source": [
        "# Remove outliers\n",
        "train.drop(train[train['heals'] >= 40].index, inplace=True)"
      ],
      "execution_count": null,
      "outputs": []
    },
    {
      "cell_type": "markdown",
      "metadata": {
        "id": "bDHqHoNd8NaD"
      },
      "source": [
        "##Should we remove all these outliers from our dataset or not?\n",
        "In DataScience their is no predefined strategy . Where you can say for sure this is the right way to do it. All of us have different way, different methods and differnet openion.\n",
        "\n",
        "According to me in this particular case we have a millions of rows , So we can afford to loose few thousand . If it helps to create a better model."
      ]
    },
    {
      "cell_type": "code",
      "metadata": {
        "id": "ML94jU_O-fcm"
      },
      "source": [
        "train.shape"
      ],
      "execution_count": null,
      "outputs": []
    },
    {
      "cell_type": "code",
      "metadata": {
        "id": "NKJRVP5fP_i7"
      },
      "source": [
        "train.to_csv('/content/cleaned_data.csv', index=False)"
      ],
      "execution_count": null,
      "outputs": []
    },
    {
      "cell_type": "code",
      "metadata": {
        "id": "jeYul7WvoPeF"
      },
      "source": [
        "# import pandas as pd\n",
        "cleaned_data = pd.read_csv('/content/cleaned_data.csv')\n",
        "cleaned_data = reduce_mem_usage(cleaned_data)"
      ],
      "execution_count": null,
      "outputs": []
    },
    {
      "cell_type": "markdown",
      "metadata": {
        "id": "HTr0Eljzec_r"
      },
      "source": [
        "# Part 3: Feature Engineering"
      ]
    },
    {
      "cell_type": "markdown",
      "metadata": {
        "id": "M6saaHeQ9oCr"
      },
      "source": [
        "##Experiment: Adding/Removing some new Features and finding thier correlation with the winPlacePer"
      ]
    },
    {
      "cell_type": "markdown",
      "metadata": {
        "id": "UclrNKm5ACpd"
      },
      "source": [
        "A game in PUBG can have up to 100 players fighting each other. But most of the times a game isn't \"full\". There is no variable that gives us the number of players joined. So lets create one."
      ]
    },
    {
      "cell_type": "code",
      "metadata": {
        "id": "oVS2fzMQKH0C"
      },
      "source": [
        "cleaned_data.head()"
      ],
      "execution_count": null,
      "outputs": []
    },
    {
      "cell_type": "code",
      "metadata": {
        "id": "vmmrzPWY_l3G"
      },
      "source": [
        "cleaned_data['_playersJoined'] = cleaned_data.groupby('matchId')['matchId'].transform('count')\n",
        "data = cleaned_data.copy()\n",
        "data = data[data['_playersJoined']>49]\n",
        "plt.figure(figsize=(15,10))\n",
        "sns.countplot(data['_playersJoined'])\n",
        "plt.title(\"Players Joined\",fontsize=15)\n",
        "plt.show()"
      ],
      "execution_count": null,
      "outputs": []
    },
    {
      "cell_type": "markdown",
      "metadata": {
        "id": "03RGKc9S_w-W"
      },
      "source": [
        "There are a few matches with less than 75 players that cannot be displayed here. As you can see most of the matches are nearly packed and have almost 100 players. "
      ]
    },
    {
      "cell_type": "markdown",
      "metadata": {
        "id": "UiTXrODBAgCg"
      },
      "source": [
        "###Normalizing the features\n",
        "Now that we have a feature '_playersJoined' we can normalize other features based on the amount of players. Features that can be valuable to normalize are:\n",
        "\n",
        "- kills\n",
        "- damageDealt\n",
        "- maxPlace\n",
        "- matchDuration"
      ]
    },
    {
      "cell_type": "code",
      "metadata": {
        "id": "3p81kro2ABeC"
      },
      "source": [
        "# Create normalized features\n",
        "cleaned_data['_killsNorm'] = cleaned_data['kills']*((100-cleaned_data['_playersJoined'])/100 + 1)\n",
        "cleaned_data['_damageDealtNorm'] = cleaned_data['damageDealt']*((100-cleaned_data['_playersJoined'])/100 + 1)\n",
        "cleaned_data['_maxPlaceNorm'] = cleaned_data['maxPlace']*((100-cleaned_data['_playersJoined'])/100 + 1)\n",
        "cleaned_data['_matchDurationNorm'] = cleaned_data['matchDuration']*((100-cleaned_data['_playersJoined'])/100 + 1)\n",
        "# Compare standard features and normalized features\n",
        "to_show = ['Id', 'kills','_killsNorm','damageDealt', '_damageDealtNorm', 'maxPlace', '_maxPlaceNorm', 'matchDuration', '_matchDurationNorm']\n",
        "cleaned_data[to_show][0:11]\n"
      ],
      "execution_count": null,
      "outputs": []
    },
    {
      "cell_type": "code",
      "metadata": {
        "id": "Zha3N5vP9tYV"
      },
      "source": [
        "match = cleaned_data.groupby('matchId')\n",
        "cleaned_data['_killsPerc'] = match['kills'].rank(pct=True).values\n",
        "cleaned_data['_killPlacePerc'] = match['killPlace'].rank(pct=True).values\n",
        "cleaned_data['_walkDistancePerc'] = match['walkDistance'].rank(pct=True).values\n",
        "cleaned_data['_damageDealtPerc'] = match['damageDealt'].rank(pct=True).values\n",
        "cleaned_data['_walkPerc_killsPerc'] = cleaned_data['_walkDistancePerc'] / cleaned_data['_killsPerc']\n",
        "cleaned_data.head()"
      ],
      "execution_count": null,
      "outputs": []
    },
    {
      "cell_type": "code",
      "metadata": {
        "id": "AgJsCRZXo7oc"
      },
      "source": [
        "corr = cleaned_data[['_killsPerc', '_killPlacePerc','_walkDistancePerc','_damageDealtPerc', '_walkPerc_killsPerc','winPlacePerc']].corr()"
      ],
      "execution_count": null,
      "outputs": []
    },
    {
      "cell_type": "code",
      "metadata": {
        "id": "g_jIMVa2poot"
      },
      "source": [
        "plt.figure(figsize=(15,8))\n",
        "sns.heatmap(\n",
        "    corr,\n",
        "    xticklabels=corr.columns.values,\n",
        "    yticklabels=corr.columns.values,\n",
        "    annot=True,\n",
        "    linecolor='white',\n",
        "    linewidths=0.1,\n",
        "    cmap=\"BrBG\"\n",
        ")\n",
        "plt.show()"
      ],
      "execution_count": null,
      "outputs": []
    },
    {
      "cell_type": "code",
      "metadata": {
        "id": "h68Dqn2q-Kgh"
      },
      "source": [
        "agg = cleaned_data.groupby(['groupId']).size().to_frame('players_in_team')\n",
        "cleaned_data = cleaned_data.merge(agg, how='left', on=['groupId'])\n",
        "cleaned_data['_healthItems'] = cleaned_data['heals'] + cleaned_data['boosts']\n",
        "cleaned_data['_headshotKillRate'] = cleaned_data['headshotKills'] / cleaned_data['kills']\n",
        "cleaned_data['_killPlaceOverMaxPlace'] = cleaned_data['killPlace'] / cleaned_data['maxPlace']\n",
        "cleaned_data['_killsOverWalkDistance'] = cleaned_data['kills'] / cleaned_data['walkDistance']\n",
        "cleaned_data['_killsOverDistance'] = cleaned_data['kills'] / cleaned_data['_totalDistance']\n",
        "cleaned_data['_walkDistancePerSec'] = cleaned_data['walkDistance'] / cleaned_data['matchDuration']\n",
        "cleaned_data.head()"
      ],
      "execution_count": null,
      "outputs": []
    },
    {
      "cell_type": "code",
      "metadata": {
        "id": "J4BKzERwk8Og"
      },
      "source": [
        "corr = cleaned_data[['killPlace', 'walkDistance','players_in_team','_healthItems', '_headshotKillRate', '_killPlaceOverMaxPlace', '_killsOverWalkDistance', '_killsOverDistance','_walkDistancePerSec','winPlacePerc']].corr()"
      ],
      "execution_count": null,
      "outputs": []
    },
    {
      "cell_type": "code",
      "metadata": {
        "id": "lsIaRdb0k8Ox"
      },
      "source": [
        "plt.figure(figsize=(15,8))\n",
        "sns.heatmap(\n",
        "    corr,\n",
        "    xticklabels=corr.columns.values,\n",
        "    yticklabels=corr.columns.values,\n",
        "    annot=True,\n",
        "    linecolor='white',\n",
        "    linewidths=0.1,\n",
        "    cmap=\"BrBG\"\n",
        ")\n",
        "plt.show()"
      ],
      "execution_count": null,
      "outputs": []
    },
    {
      "cell_type": "code",
      "metadata": {
        "id": "YiAmxVJKCDHS"
      },
      "source": [
        "cleaned_data.shape"
      ],
      "execution_count": null,
      "outputs": []
    },
    {
      "cell_type": "code",
      "metadata": {
        "id": "WJvqnhHICJ4P"
      },
      "source": [
        "cleaned_data.columns"
      ],
      "execution_count": null,
      "outputs": []
    },
    {
      "cell_type": "code",
      "metadata": {
        "id": "ANSzb1zpnQYF"
      },
      "source": [
        "cleaned_data.drop(['_headshotKillRate','_killsOverDistance', '_killsOverWalkDistance', ], axis=1, inplace=True)"
      ],
      "execution_count": null,
      "outputs": []
    },
    {
      "cell_type": "code",
      "metadata": {
        "id": "gdx9OTeXt-Yc"
      },
      "source": [
        "cleaned_data.head()"
      ],
      "execution_count": null,
      "outputs": []
    },
    {
      "cell_type": "code",
      "metadata": {
        "id": "tBhbD5JRsnPB"
      },
      "source": [
        "cols_to_fit = [col for col in cleaned_data.columns]\n",
        "corr = cleaned_data[cols_to_fit].corr()\n",
        "f,ax = plt.subplots(figsize=(30, 25))\n",
        "sns.heatmap(cleaned_data[cols_to_fit].corr(), annot=True, fmt= '.1f',ax=ax, cmap=\"BrBG\")\n",
        "sns.set(font_scale=1.25)\n",
        "plt.show()"
      ],
      "execution_count": null,
      "outputs": []
    },
    {
      "cell_type": "markdown",
      "metadata": {
        "id": "0FSKpvWmMRd5"
      },
      "source": [
        "##Removing features having 0 correlation with winPlacePerc"
      ]
    },
    {
      "cell_type": "code",
      "metadata": {
        "id": "90ApP5uMMXzb"
      },
      "source": [
        "cleaned_data.drop(['killPoints','matchDuration','maxPlace','numGroups','rankPoints','roadKills','teamKills','winPoints', '_playersJoined', '_maxPlaceNorm', '_matchDurationNorm', '_killsWithoutMoving'], axis=1, inplace=True)\n",
        "# cleaned_data.drop(['headshotKills','roadKills','vehicleDestroys'], axis=1, inplace=True)\n",
        "# cleaned_data.drop(['rideDistance','swimDistance'], axis=1, inplace=True)\n",
        "# cleaned_data.drop(['rankPoints','killPoints','winPoints'], axis=1, inplace=True)\n"
      ],
      "execution_count": null,
      "outputs": []
    },
    {
      "cell_type": "code",
      "metadata": {
        "id": "D4eZ0sg3x1wV"
      },
      "source": [
        "# cleaned_data.drop(['maxPlace','numGroups','headshotKills','roadKills', 'teamKills','vehicleDestroys'], axis=1, inplace=True)"
      ],
      "execution_count": null,
      "outputs": []
    },
    {
      "cell_type": "code",
      "metadata": {
        "id": "CUrs2_imHuJT"
      },
      "source": [
        "# cleaned_data.drop(['_headshot_rate'], axis=1, inplace=True)"
      ],
      "execution_count": null,
      "outputs": []
    },
    {
      "cell_type": "code",
      "metadata": {
        "id": "Yt_G8JVaGjU2"
      },
      "source": [
        "cleaned_data.shape"
      ],
      "execution_count": null,
      "outputs": []
    },
    {
      "cell_type": "markdown",
      "metadata": {
        "id": "Cqc44PCtGOYt"
      },
      "source": [
        "##Removing variables with high correlation between them"
      ]
    },
    {
      "cell_type": "code",
      "metadata": {
        "id": "FakzHJGzRD1B"
      },
      "source": [
        "\"\"\" Remove all the variables having high correlation among them\n",
        "Do it as a part of your assignment\n",
        "\"\"\""
      ],
      "execution_count": null,
      "outputs": []
    },
    {
      "cell_type": "markdown",
      "metadata": {
        "id": "kSYtX-BkLCQK"
      },
      "source": [
        "###Modifying the test data"
      ]
    },
    {
      "cell_type": "code",
      "metadata": {
        "id": "ANI-q6n4HwQE"
      },
      "source": [
        "test.drop(['_playersJoined'], axis=1, inplace=True)"
      ],
      "execution_count": null,
      "outputs": []
    },
    {
      "cell_type": "code",
      "metadata": {
        "id": "itcXB4QuHGHY"
      },
      "source": [
        "test.shape"
      ],
      "execution_count": null,
      "outputs": []
    },
    {
      "cell_type": "code",
      "metadata": {
        "id": "PWvJtT_pwybe"
      },
      "source": [
        "cols_to_fit = [col for col in cleaned_data.columns]\n",
        "corr = cleaned_data[cols_to_fit].corr()\n",
        "f,ax = plt.subplots(figsize=(30, 20))\n",
        "sns.heatmap(corr, annot=True, fmt= '.1f',ax=ax, cmap=\"BrBG\")\n",
        "sns.set(font_scale=1.25)\n",
        "plt.show()"
      ],
      "execution_count": null,
      "outputs": []
    },
    {
      "cell_type": "code",
      "metadata": {
        "id": "l2li_H1Rz7-O"
      },
      "source": [
        "#saving highly correlated data\n",
        "cleaned_data.to_csv(  '/content/Highly_correlated_data.csv', index=False)"
      ],
      "execution_count": null,
      "outputs": []
    },
    {
      "cell_type": "markdown",
      "metadata": {
        "id": "Oj-BZOpGZnhh"
      },
      "source": [
        "#Part 4: Final Prediction"
      ]
    },
    {
      "cell_type": "markdown",
      "metadata": {
        "id": "YY8gA0v7OjVx"
      },
      "source": [
        "Let's have a look at our problem statement and our target variable\n",
        "\n",
        "> **Problem Statement:** *You must create a model which predicts **players' finishing placement** based on their final stats, on a scale from 1 (first place) to 0 (last place)*\n",
        "\n",
        "> **Target variable:** *winPlacePerc - This is a **percentile winning placement**, where 1 corresponds to 1st place, and 0 corresponds to last place in the match. It is calculated off of maxPlace, not numGroups, so it is possible to have missing chunks in a match.*\n",
        "\n",
        "So our goal is to **rank** players and our target variable is a **percentile**. \n",
        "\n",
        "These two bits are critical pieces of information: the goal tells us what kind of **Machine Learning technique** we want to use and the target definition tells us about its **distribution**."
      ]
    },
    {
      "cell_type": "markdown",
      "metadata": {
        "id": "XlVh8EhlOr6h"
      },
      "source": [
        "**Machine Learning Technique:** What is the metric?\n",
        "\n",
        "\n",
        "Ideally, we would like to use a ranking algorithm like lambdarank/lambdamart.\n",
        "\n",
        "Learning to Rank (LTR) is a class of techniques that apply supervised machine learning to solve ranking problems. Essentially, the ranking is transformed into a pairwise regression problem. The algorithm compares pairs of items and comes up with the optimal ordering for that pair, iterating through the different pairs to extrapolate with the final ranking of all items.\n",
        "\n",
        "The business metric is the rank, not the MAE. Unfortunately, I've found the LGBM lambdarank implementation quite confusing and was unsuccessful at using it. As such we will optimize our algorithm using an MAE objective.\n",
        "\n",
        "Limitations using MAE:\n",
        "- The predictions are not bound, as such we can have some predictions falling above/below our percentile range\n",
        "- The predictions are not going to be unique, you could have several players/teams assigned same scores\n",
        "\n",
        "\n",
        "**Target variable:** Percentile\n",
        "\n",
        "In a  game of PUBG, each team gets assigned a percentile value so there should approximatly be the same cout of 0s, 0.5s, 1s etc. (there might be irregularities in the distribution due imbalance in team sizes or number of teams). We should expect to see a uniform distribution for all percentile scores value, and a gaussian distribution with mean 0.5 for the average percentile score per match. We want our target to mimic a uniform distribution as much as possible.\n",
        "\n"
      ]
    },
    {
      "cell_type": "code",
      "metadata": {
        "id": "dEbpLG9nS48P"
      },
      "source": [
        "highly_corr = pd.read_csv('/content/Highly_correlated_data.csv')\n",
        "highly_corr = reduce_mem_usage(highly_corr)"
      ],
      "execution_count": null,
      "outputs": []
    },
    {
      "cell_type": "code",
      "metadata": {
        "id": "pGu4ZcmiMtPW"
      },
      "source": [
        "highly_corr.shape"
      ],
      "execution_count": null,
      "outputs": []
    },
    {
      "cell_type": "code",
      "metadata": {
        "id": "m8P-AD03YUxM"
      },
      "source": [
        "X_train = highly_corr[highly_corr['winPlacePerc'].notnull()].reset_index(drop=True)\n",
        "X_test = highly_corr[highly_corr['winPlacePerc'].isnull()].drop(['winPlacePerc'], axis=1).reset_index(drop=True)\n",
        "\n",
        "\n",
        "Y_train = X_train.pop('winPlacePerc')\n",
        "X_test_grp = X_test[['matchId','groupId']].copy()\n",
        "train_matchId = X_train['matchId']\n",
        "\n",
        "# drop matchId,groupId\n",
        "X_train.drop(['matchId','groupId','Id'], axis=1, inplace=True)\n",
        "X_test.drop(['matchId','groupId','Id'], axis=1, inplace=True)\n",
        "\n",
        "print(X_train.shape, X_test.shape)"
      ],
      "execution_count": null,
      "outputs": []
    },
    {
      "cell_type": "markdown",
      "metadata": {
        "_uuid": "c256f1f1c4a45cc97e4b5a7be99865c1f528f2e3",
        "id": "F5KoD_1HjxbQ"
      },
      "source": [
        "## Dealing with Categorical Variables"
      ]
    },
    {
      "cell_type": "markdown",
      "metadata": {
        "_uuid": "5dcbdd5c6d1ebfbc14848b9829e47823f12c105b",
        "id": "4kTcWnIKjxbR"
      },
      "source": [
        "We will one hot encode the 'matchType' feature to use it in our Random Forest model."
      ]
    },
    {
      "cell_type": "code",
      "metadata": {
        "trusted": true,
        "_uuid": "510bcf385c79a92d9152377a952af78ce9cafcfd",
        "_kg_hide-input": true,
        "id": "GNUn7yQyjxbS"
      },
      "source": [
        "print('There are {} different Match types in the dataset.'.format(highly_corr['matchType'].nunique()))"
      ],
      "execution_count": null,
      "outputs": []
    },
    {
      "cell_type": "code",
      "metadata": {
        "trusted": true,
        "_uuid": "b5a729fc92482307c171dfd788b546f1154c0b1c",
        "_kg_hide-input": true,
        "id": "KfG4KwM7jxbW"
      },
      "source": [
        "# One hot encode matchType\n",
        "highly_corr = pd.get_dummies(highly_corr, columns=['matchType'])\n",
        "\n",
        "# Take a look at the encoding\n",
        "matchType_encoding = highly_corr.filter(regex='matchType')\n",
        "matchType_encoding.head()"
      ],
      "execution_count": null,
      "outputs": []
    },
    {
      "cell_type": "markdown",
      "metadata": {
        "_uuid": "8382ed80c5307282913325c4a6fe90b833cdd2e3",
        "id": "nroRt3_wjxbb"
      },
      "source": [
        "There are a lot of groupId's and matchId's so one-hot encoding them is computational suicide.\n",
        "We will turn them into category codes. That way we can still benefit from correlations between groups and matches in our Random Forest algorithm."
      ]
    },
    {
      "cell_type": "code",
      "metadata": {
        "trusted": true,
        "_uuid": "133123c3b9d5d398c9bb4d62fdebde0d65c240ba",
        "_kg_hide-input": true,
        "id": "e6sbtjqEjxbd"
      },
      "source": [
        "# Turn groupId and match Id into categorical types\n",
        "highly_corr['groupId'] = highly_corr['groupId'].astype('category')\n",
        "highly_corr['matchId'] = highly_corr['matchId'].astype('category')\n",
        "\n",
        "# Get category coding for groupId and matchID\n",
        "highly_corr['groupId_cat'] = highly_corr['groupId'].cat.codes\n",
        "highly_corr['matchId_cat'] = highly_corr['matchId'].cat.codes\n",
        "\n",
        "# Get rid of old columns\n",
        "highly_corr.drop(columns=['groupId', 'matchId'], inplace=True)\n",
        "\n",
        "# Lets take a look at our newly created features\n",
        "highly_corr[['groupId_cat', 'matchId_cat']].head()"
      ],
      "execution_count": null,
      "outputs": []
    },
    {
      "cell_type": "code",
      "metadata": {
        "trusted": true,
        "_uuid": "9ceab55a2e10123e8d59855c24d49a314e8cce07",
        "_kg_hide-input": true,
        "id": "IkGFCR3Gjxbk"
      },
      "source": [
        "# Drop Id column, because it probably won't be useful for our Machine Learning algorithm,\n",
        "# because the test set contains different Id's\n",
        "highly_corr.drop(columns = ['Id'], inplace=True)"
      ],
      "execution_count": null,
      "outputs": []
    },
    {
      "cell_type": "markdown",
      "metadata": {
        "_uuid": "b0cf78cccb5e01bbe8aa155db5dc4d9df175352b",
        "id": "0VBqAYWLjxbq"
      },
      "source": [
        "# Getting prepared for Machine Learning <a id=\"8\"></a>"
      ]
    },
    {
      "cell_type": "markdown",
      "metadata": {
        "_uuid": "4d585439ad63102cce6dac9801d1fd1e9e7fab03",
        "id": "U94IeMHpjxbr"
      },
      "source": [
        "## Sampling"
      ]
    },
    {
      "cell_type": "markdown",
      "metadata": {
        "_uuid": "8cd476a71251ba0d0592e9f2bb7972dfd1dac6d4",
        "id": "DdSf80_jjxbs"
      },
      "source": [
        "We will take a sample of 500000 rows from our training set for easy debugging and exploration."
      ]
    },
    {
      "cell_type": "code",
      "metadata": {
        "trusted": true,
        "_uuid": "f314c6b60c814bebbffd36946f0fabb572de384a",
        "_kg_hide-input": true,
        "id": "F34t_DQajxbt"
      },
      "source": [
        "# Take sample for debugging and exploration\n",
        "sample = 500000\n",
        "df_sample = highly_corr.sample(sample)"
      ],
      "execution_count": null,
      "outputs": []
    },
    {
      "cell_type": "markdown",
      "metadata": {
        "_uuid": "78f2dea8253ffa5ada2797b0cf49c0eb83513bd0",
        "id": "Cr4P8ZtKjxb3"
      },
      "source": [
        "## Split target variable, validation data, etc."
      ]
    },
    {
      "cell_type": "code",
      "metadata": {
        "trusted": true,
        "_uuid": "b186279f329752b77f26d523095d89b493fcfd22",
        "_kg_hide-input": true,
        "id": "zlE-Lzc4jxb4"
      },
      "source": [
        "# Split sample into training data and target variable\n",
        "df = df_sample.drop(columns = ['winPlacePerc']) #all columns except target\n",
        "y = df_sample['winPlacePerc'] # Only target variable"
      ],
      "execution_count": null,
      "outputs": []
    },
    {
      "cell_type": "code",
      "metadata": {
        "trusted": true,
        "_uuid": "1b9e944106ee40c231d60b9056bc841eed180405",
        "_kg_hide-input": true,
        "id": "qUKKeax0jxb8"
      },
      "source": [
        "# Function for splitting training and validation data\n",
        "def split_vals(a, n : int): \n",
        "    return a[:n].copy(), a[n:].copy()\n",
        "val_perc = 0.12 # % to use for validation set\n",
        "n_valid = int(val_perc * sample) \n",
        "n_trn = len(df)-n_valid\n",
        "# Split data\n",
        "raw_train, raw_valid = split_vals(df_sample, n_trn)\n",
        "X_train, X_valid = split_vals(df, n_trn)\n",
        "y_train, y_valid = split_vals(y, n_trn)\n",
        "\n",
        "# Check dimensions of samples\n",
        "print('Sample train shape: ', X_train.shape, \n",
        "      'Sample target shape: ', y_train.shape, \n",
        "      'Sample validation shape: ', X_valid.shape)"
      ],
      "execution_count": null,
      "outputs": []
    },
    {
      "cell_type": "markdown",
      "metadata": {
        "_uuid": "6d8c3d9e3f5efd4040a32ddf047406fa17a3dad7",
        "id": "wDXwcEWajxcB"
      },
      "source": [
        "## Defining function for calculating Mean Absolute Error (MAE)"
      ]
    },
    {
      "cell_type": "code",
      "metadata": {
        "trusted": true,
        "_uuid": "7dee35b5298eb55750e4e338439be5c8b13acd0f",
        "_kg_hide-input": true,
        "id": "uJFdwcMHjxcD"
      },
      "source": [
        "# Metric used for the PUBG competition (Mean Absolute Error (MAE))\n",
        "from sklearn.metrics import mean_absolute_error\n",
        "from sklearn.ensemble import RandomForestRegressor\n",
        "\n",
        "# Function to print the MAE (Mean Absolute Error) score\n",
        "\n",
        "def print_score(m : RandomForestRegressor):\n",
        "    res = ['mae train: ', mean_absolute_error(m.predict(X_train), y_train), \n",
        "           'mae val: ', mean_absolute_error(m.predict(X_valid), y_valid)]\n",
        "    #Score of the training dataset obtained using an out-of-bag estimate.\n",
        "    if hasattr(m, 'oob_score_'): res.append(m.oob_score_)\n",
        "    print(res)"
      ],
      "execution_count": null,
      "outputs": []
    },
    {
      "cell_type": "markdown",
      "metadata": {
        "_uuid": "e6ec67f2a1507fc9af1131ade377c4058bd580a6",
        "id": "UnlmmO9RjxcL"
      },
      "source": [
        "## Creating a basic Random Forest Model"
      ]
    },
    {
      "cell_type": "code",
      "metadata": {
        "trusted": true,
        "_uuid": "d4489216c4511111d67ae7f492fde6bf8e78930e",
        "id": "IRf76EQ2jxcM"
      },
      "source": [
        "# Train basic model\n",
        "m1 = RandomForestRegressor(n_estimators=40, min_samples_leaf=3, max_features='sqrt', n_jobs=-1)\n",
        "m1.fit(X_train, y_train)\n",
        "print_score(m1)"
      ],
      "execution_count": null,
      "outputs": []
    },
    {
      "cell_type": "markdown",
      "metadata": {
        "_uuid": "a6f61fcbf672cfba905b99cc781ac3e8a648be89",
        "id": "BvyOtRpDjxcT"
      },
      "source": [
        "## Finding Feature Importance using Random Forest"
      ]
    },
    {
      "cell_type": "code",
      "metadata": {
        "id": "OwjYvpj0qXXY"
      },
      "source": [
        "def rf_feat_importance(m, df):\n",
        "    return pd.DataFrame({'cols':df.columns, 'imp':m.feature_importances_}).sort_values('imp', ascending=False)"
      ],
      "execution_count": null,
      "outputs": []
    },
    {
      "cell_type": "code",
      "metadata": {
        "trusted": true,
        "_uuid": "ed5518de78d258cb9e48b9eaf7181505a26422ce",
        "_kg_hide-input": true,
        "id": "t10myHfhjxcV"
      },
      "source": [
        "# What are the most predictive features according to our basic random forest model\n",
        "fi = rf_feat_importance(m1, df); fi[:15]"
      ],
      "execution_count": null,
      "outputs": []
    },
    {
      "cell_type": "code",
      "metadata": {
        "trusted": true,
        "_uuid": "9d4f1ee82e91edcf21ae642f2b31e47220fa25b5",
        "_kg_hide-input": true,
        "id": "ShbeGg1njxcX"
      },
      "source": [
        "# Plot a feature importance graph for the 20 most important features\n",
        "plot1 = fi[:15].plot('cols', 'imp', figsize=(14,6), legend=False, kind = 'barh')\n",
        "plot1"
      ],
      "execution_count": null,
      "outputs": []
    },
    {
      "cell_type": "code",
      "metadata": {
        "id": "ut8U3YjXZAJ6"
      },
      "source": [
        "X_train.columns"
      ],
      "execution_count": null,
      "outputs": []
    },
    {
      "cell_type": "code",
      "metadata": {
        "id": "m66PCE2pek5p"
      },
      "source": [
        "print(X_train.shape, y_train.shape)"
      ],
      "execution_count": null,
      "outputs": []
    },
    {
      "cell_type": "code",
      "metadata": {
        "id": "pFNtvXsEffJ1"
      },
      "source": [
        "# Keep only significant features\n",
        "to_keep = fi[fi.imp>0.005].cols\n",
        "print('Significant features: ', len(to_keep))\n",
        "to_keep"
      ],
      "execution_count": null,
      "outputs": []
    },
    {
      "cell_type": "code",
      "metadata": {
        "id": "VBVu6Oetfkuj"
      },
      "source": [
        "# Make a DataFrame with only significant features\n",
        "df_keep = df[to_keep].copy()\n",
        "X_train, X_valid = split_vals(df_keep, n_trn)"
      ],
      "execution_count": null,
      "outputs": []
    },
    {
      "cell_type": "markdown",
      "metadata": {
        "id": "qFGmjsqigdFY"
      },
      "source": [
        "## Building a Random Forest Model with top features"
      ]
    },
    {
      "cell_type": "code",
      "metadata": {
        "id": "PQ0fVsGcfl18"
      },
      "source": [
        "# Train model on top features\n",
        "m2 = RandomForestRegressor(n_estimators=80, min_samples_leaf=3, max_features='sqrt', n_jobs=-1)\n",
        "m2.fit(X_train, y_train)\n",
        "print_score(m2)"
      ],
      "execution_count": null,
      "outputs": []
    },
    {
      "cell_type": "code",
      "metadata": {
        "id": "KdwaGDLHfudA"
      },
      "source": [
        "# Get feature importances of our top features\n",
        "fi_to_keep = rf_feat_importance(m2, df_keep)\n",
        "plot2 = fi_to_keep.plot('cols', 'imp', figsize=(14,6), legend=False, kind = 'barh')\n",
        "plot2"
      ],
      "execution_count": null,
      "outputs": []
    },
    {
      "cell_type": "markdown",
      "metadata": {
        "id": "7DjWVvsxgm7N"
      },
      "source": [
        "###Generating a Dendogram to view highly correlated features"
      ]
    },
    {
      "cell_type": "code",
      "metadata": {
        "id": "QqGpr_UEf9Qb"
      },
      "source": [
        "import scipy\n",
        "from scipy.cluster import hierarchy as hc\n",
        "# Create a Dendrogram to view highly correlated features\n",
        "corr = np.round(scipy.stats.spearmanr(df_keep).correlation, 4)\n",
        "corr_condensed = hc.distance.squareform(1-corr)\n",
        "z = hc.linkage(corr_condensed, method='average')\n",
        "fig = plt.figure(figsize=(14,10))\n",
        "dendrogram = hc.dendrogram(z, labels=df_keep.columns, orientation='left', leaf_font_size=16)\n",
        "plt.plot()"
      ],
      "execution_count": null,
      "outputs": []
    },
    {
      "cell_type": "code",
      "metadata": {
        "id": "pmSMCtTKg-VZ"
      },
      "source": [
        "# Defining a function get_sample to get random sample of n rows from dataframe(df), without replacement.\n",
        "def get_sample(df,n):\n",
        "    idxs = sorted(np.random.permutation(len(df))[:n])\n",
        "    return df.iloc[idxs].copy()"
      ],
      "execution_count": null,
      "outputs": []
    },
    {
      "cell_type": "code",
      "metadata": {
        "id": "zdeHVezVjkkJ"
      },
      "source": [
        "!pip install pdpbox"
      ],
      "execution_count": null,
      "outputs": []
    },
    {
      "cell_type": "code",
      "metadata": {
        "id": "ae2777wQjwoi"
      },
      "source": [
        "!pip install pandas_summary"
      ],
      "execution_count": null,
      "outputs": []
    },
    {
      "cell_type": "code",
      "metadata": {
        "id": "cUSZGN-Fjznx"
      },
      "source": [
        "!pip install plotnine"
      ],
      "execution_count": null,
      "outputs": []
    },
    {
      "cell_type": "code",
      "metadata": {
        "id": "Cqbi83kNv62P"
      },
      "source": [
        "df_keep.head()"
      ],
      "execution_count": null,
      "outputs": []
    },
    {
      "cell_type": "code",
      "metadata": {
        "id": "oyIxGwObgk6I"
      },
      "source": [
        "# Plot the predictive quality of kills \n",
        "# from pdpbox import pdp\n",
        "from plotnine import *\n",
        "from pandas_summary import DataFrameSummary\n",
        "x_all = get_sample(highly_corr, 100000)\n",
        "ggplot(x_all, aes('_walkPerc_killsPerc','winPlacePerc'))+stat_smooth(se=True, colour='red', method='mavg')"
      ],
      "execution_count": null,
      "outputs": []
    },
    {
      "cell_type": "code",
      "metadata": {
        "id": "X9L60zHYweBg"
      },
      "source": [
        "# Plot the predictive quality of walkDistance\n",
        "x_all = get_sample(highly_corr, 100000)\n",
        "ggplot(x_all, aes('_totalDistance','winPlacePerc'))+stat_smooth(se=True, colour='red', method='mavg')"
      ],
      "execution_count": null,
      "outputs": []
    },
    {
      "cell_type": "code",
      "metadata": {
        "id": "x8CVYqz7wxOk"
      },
      "source": [
        "# Prepare data\n",
        "train = highly_corr.copy()\n",
        "val_perc_full = 0.20 # % to use for validation set\n",
        "n_valid_full = int(val_perc_full * len(train)) \n",
        "n_trn_full = len(train)-n_valid_full\n",
        "df_full = train.drop(columns = ['winPlacePerc']) # all columns except target\n",
        "y = train['winPlacePerc'] # target variable\n",
        "df_full = df_full[to_keep] # Keep only relevant features\n",
        "X_train, X_valid = split_vals(df_full, n_trn_full)\n",
        "y_train, y_valid = split_vals(y, n_trn_full)\n",
        "\n",
        "# Check dimensions of data\n",
        "print('Sample train shape: ', X_train.shape, \n",
        "      'Sample target shape: ', y_train.shape, \n",
        "      'Sample validation shape: ', X_valid.shape)"
      ],
      "execution_count": null,
      "outputs": []
    },
    {
      "cell_type": "code",
      "metadata": {
        "id": "M_mw_tFawyvY"
      },
      "source": [
        "# Train final model\n",
        "# You should get better results by increasing n_estimators\n",
        "# and by playing around with the parameters\n",
        "m3 = RandomForestRegressor(n_estimators=50, min_samples_leaf=3, max_features=0.5,\n",
        "                          n_jobs=-1)\n",
        "m3.fit(X_train, y_train)\n",
        "print_score(m3)"
      ],
      "execution_count": null,
      "outputs": []
    },
    {
      "cell_type": "code",
      "metadata": {
        "id": "fsLis4c3pKxh"
      },
      "source": [
        "test.head()"
      ],
      "execution_count": null,
      "outputs": []
    },
    {
      "cell_type": "code",
      "metadata": {
        "id": "vF6GMyNWpT1p"
      },
      "source": [
        "train.head()"
      ],
      "execution_count": null,
      "outputs": []
    },
    {
      "cell_type": "markdown",
      "metadata": {
        "id": "j-gfhTRyVamV"
      },
      "source": [
        "###Modifying the test data"
      ]
    },
    {
      "cell_type": "code",
      "metadata": {
        "id": "TVZO6HfGQY3D"
      },
      "source": [
        "test = pd.read_csv('/content/test_V2.csv')\n",
        "test = reduce_mem_usage(test)"
      ],
      "execution_count": null,
      "outputs": []
    },
    {
      "cell_type": "code",
      "metadata": {
        "id": "4lJfM0yfO6u3"
      },
      "source": [
        "#Adding same features to test data\n",
        "agg = test.groupby(['groupId']).size().to_frame('players_in_team')\n",
        "test = test.merge(agg, how='left', on=['groupId'])\n",
        "test['_headshot_rate'] = test['headshotKills'] / test['kills']\n",
        "test['_headshot_rate'] = test['_headshot_rate'].fillna(0)\n",
        "test['_totalDistance'] = test['rideDistance'] + test['walkDistance'] + test['swimDistance']\n",
        "test['_playersJoined'] = test.groupby('matchId')['matchId'].transform('count')\n",
        "test['_killsNorm'] = test['kills']*((100-test['_playersJoined'])/100 + 1)\n",
        "test['_damageDealtNorm'] = test['damageDealt']*((100-test['_playersJoined'])/100 + 1)\n",
        "test['_healthItems'] = test['heals'] + test['boosts']\n",
        "test['killsWithoutMoving'] = ((test['kills'] > 0) & (test['_totalDistance'] == 0))\n",
        "test['_killPlacePerc'] = test['killPlace'].rank(pct=True).values\n",
        "test['_killsPerc'] = test['kills'].rank(pct=True).values\n",
        "test['_walkDistancePerc'] = test['walkDistance'].rank(pct=True).values\n",
        "test['_walkPerc_killsPerc'] = test['_walkDistancePerc'] / test['_killsPerc']\n",
        "test['_killPlaceOverMaxPlace'] = test['killPlace'] / test['maxPlace']\n",
        "test['_killsPerc'] = test['kills'].rank(pct=True).values\n",
        "test['_walkDistancePerc'] = test['walkDistance'].rank(pct=True).values\n",
        "test['_walkDistancePerSec'] = test['walkDistance'] / test['matchDuration']\n"
      ],
      "execution_count": null,
      "outputs": []
    },
    {
      "cell_type": "code",
      "metadata": {
        "id": "qnsdF_ocO97N"
      },
      "source": [
        "test.head()"
      ],
      "execution_count": null,
      "outputs": []
    },
    {
      "cell_type": "code",
      "metadata": {
        "id": "Bz_FyIg0lPYT"
      },
      "source": [
        "\n",
        "# Turn groupId and match Id into categorical types\n",
        "test['groupId'] = test['groupId'].astype('category')\n",
        "test['matchId'] = test['matchId'].astype('category')\n",
        "\n",
        "# Get category coding for groupId and matchID\n",
        "test['groupId_cat'] = test['groupId'].cat.codes\n",
        "test['matchId_cat'] = test['matchId'].cat.codes"
      ],
      "execution_count": null,
      "outputs": []
    },
    {
      "cell_type": "code",
      "metadata": {
        "id": "jsVgTg64PpR3"
      },
      "source": [
        "# # Remove irrelevant features from the test set\n",
        "test_pred = test[to_keep].copy()\n",
        "\n",
        "# Fill NaN with 0 (temporary)\n",
        "test_pred.fillna(0, inplace=True)\n",
        "test_pred.head()"
      ],
      "execution_count": null,
      "outputs": []
    },
    {
      "cell_type": "markdown",
      "metadata": {
        "id": "qE8L3c_zVj64"
      },
      "source": [
        "### Predicting the final winPlacePerc"
      ]
    },
    {
      "cell_type": "code",
      "metadata": {
        "id": "35c8po-diKgu"
      },
      "source": [
        "predictions = np.clip(a = m3.predict(test_pred), a_min = 0.0, a_max = 1.0)\n",
        "pred_df = pd.DataFrame({'Id' : test['Id'], 'winPlacePerc' : predictions})\n",
        "pred_df\n",
        "# Create submission file\n",
        "# pred_df.to_csv(\"submission.csv\", index=False)"
      ],
      "execution_count": null,
      "outputs": []
    },
    {
      "cell_type": "code",
      "metadata": {
        "id": "KBv4cnpSlAHg"
      },
      "source": [
        ""
      ],
      "execution_count": null,
      "outputs": []
    }
  ]
}